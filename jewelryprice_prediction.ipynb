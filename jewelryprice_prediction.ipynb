{
  "cells": [
    {
      "cell_type": "code",
      "source": [
        "from google.colab import drive"
      ],
      "metadata": {
        "id": "rOpkKHBiOl80"
      },
      "id": "rOpkKHBiOl80",
      "execution_count": 1,
      "outputs": []
    },
    {
      "cell_type": "code",
      "source": [
        "drive.mount('/content/drive')"
      ],
      "metadata": {
        "id": "g6KIT3LyOmDd",
        "colab": {
          "base_uri": "https://localhost:8080/"
        },
        "outputId": "4ccebfd1-64ee-473b-81dc-7c7a286f1be2"
      },
      "id": "g6KIT3LyOmDd",
      "execution_count": 2,
      "outputs": [
        {
          "output_type": "stream",
          "name": "stdout",
          "text": [
            "Drive already mounted at /content/drive; to attempt to forcibly remount, call drive.mount(\"/content/drive\", force_remount=True).\n"
          ]
        }
      ]
    },
    {
      "cell_type": "code",
      "source": [
        "%cd /content/drive/MyDrive/project_2.0"
      ],
      "metadata": {
        "id": "S_oRE4JJOmHz",
        "colab": {
          "base_uri": "https://localhost:8080/"
        },
        "outputId": "177a5555-197c-4aff-fe41-798cdf11bddb"
      },
      "id": "S_oRE4JJOmHz",
      "execution_count": 3,
      "outputs": [
        {
          "output_type": "stream",
          "name": "stdout",
          "text": [
            "/content/drive/MyDrive/project_2.0\n"
          ]
        }
      ]
    },
    {
      "cell_type": "code",
      "source": [
        "!ls"
      ],
      "metadata": {
        "id": "FoDWWAPNOmM5",
        "colab": {
          "base_uri": "https://localhost:8080/"
        },
        "outputId": "0607376d-8d3e-445f-f5be-0757600c2d49"
      },
      "id": "FoDWWAPNOmM5",
      "execution_count": 4,
      "outputs": [
        {
          "output_type": "stream",
          "name": "stdout",
          "text": [
            "Jewelry_Dataset.csv  notebook.ipynb\n"
          ]
        }
      ]
    },
    {
      "cell_type": "markdown",
      "id": "6acbad5a-2694-4a79-8ade-1c57a6923411",
      "metadata": {
        "id": "6acbad5a-2694-4a79-8ade-1c57a6923411"
      },
      "source": [
        "## 1. Project Title: Machine Learning for Jewellry Price Optimization\n",
        "\n",
        "This project aims to successfully predict the prices of jewellry pieces. This will allow the jewelry company reduce their dependence on gemolosists and expensive experts."
      ]
    },
    {
      "cell_type": "markdown",
      "id": "30c3db4c-0aec-4485-9356-28af484b9355",
      "metadata": {
        "id": "30c3db4c-0aec-4485-9356-28af484b9355"
      },
      "source": [
        "---\n",
        "\n",
        "## 2. Methodology\n",
        "\n",
        "This project will be carried out using the __CRISP-DM__ methodology. This is one of the more popular data science methodologies and is characterized by six important phases, which are as follows:\n",
        "\n",
        "1. _Business Understanding_,\n",
        "2. _Data Understanding_,\n",
        "3. _Data Preparation_,\n",
        "4. _Data Modelling_,\n",
        "5. _Model Evaluation_, and\n",
        "6. _Model Deployment_.\n",
        "\n",
        "It should be noted that these phases are usually recurrent in nature (i.e., some phases may be repeated). As such, they do not necessarily follow a linear progression."
      ]
    },
    {
      "cell_type": "markdown",
      "id": "31391b5d-55f0-4d14-a412-3edf1377bb6e",
      "metadata": {
        "id": "31391b5d-55f0-4d14-a412-3edf1377bb6e"
      },
      "source": [
        "---\n",
        "\n",
        "## 3. Tools\n",
        "\n",
        "The tools of use for this project include:\n",
        "\n",
        "1. _Pandas_\n",
        "2. _NumPy_\n",
        "3. _Matplotlib_ & _Seaborn_\n",
        "\n",
        "#### 3.1. Pandas & NumPy\n",
        "\n",
        "__Pandas__ is a Python library built upon the __NumPy__ library. The idea behind _Pandas_ is to be able to operate on text data, where _NumPy_ is best suited for numerical operations, irrespective of the fact that it can represent text to some degree.\n",
        "\n",
        "#### 3.2. Matplotlib & Seaborn\n",
        "\n",
        "__Matplotlib__ and __Seaborn__ are Python libraries for data visualization. Other alternatives include __Bokeh__ and __Plotly__."
      ]
    },
    {
      "cell_type": "markdown",
      "id": "fcd14727-6af5-4e33-bbae-1efc00e71696",
      "metadata": {
        "id": "fcd14727-6af5-4e33-bbae-1efc00e71696"
      },
      "source": [
        "---\n",
        "\n",
        "<div align=\"center\"><h1>Project Implementation via CRISP-DM</h1></div>\n",
        "\n",
        "---"
      ]
    },
    {
      "cell_type": "markdown",
      "id": "6a2e3539-f4b5-4b80-bb32-8ed9843c57d7",
      "metadata": {
        "id": "6a2e3539-f4b5-4b80-bb32-8ed9843c57d7"
      },
      "source": [
        "<div><h3>01. Business Understanding</h3></div>"
      ]
    },
    {
      "cell_type": "markdown",
      "id": "3d38f673-0512-427e-ba4b-b5c8abb3f75b",
      "metadata": {
        "id": "3d38f673-0512-427e-ba4b-b5c8abb3f75b"
      },
      "source": [
        "\n",
        "__Gemineye Emporium__ is a boutique jewelry store based in New York City, U.S., specializing in the sale of high-quality jewelry, in both gemstones and precious metals. They are dedicated to providing customers with exquisite pieces within a market as competitive as the jewelry market.\n",
        "\n",
        "Specifically, with all the hype about AI and ML, they are interested in leveraging the tools for predicting their jewelery prices. This will be advantageous in optimizing their prices for market, without the need for employing expensive gemologists and certified appraisers.\n",
        "\n",
        "In order to train the needed machine learning models, the IT team at Gemineye Emporium will need data that records and describes the conditions and state of different jewellery pieces, such as the target gender of the piece, the metal the piece is made of, the gem mounted on the piece, amongst others.\n",
        "\n",
        "---"
      ]
    },
    {
      "cell_type": "markdown",
      "id": "bb04486d-ed2b-44c6-b55c-c50f90a42912",
      "metadata": {
        "id": "bb04486d-ed2b-44c6-b55c-c50f90a42912"
      },
      "source": [
        "<div><h3>02. Data Understanding</h3></div>"
      ]
    },
    {
      "cell_type": "markdown",
      "id": "2d843c04-4d6a-4bdb-b492-0ae740ea0311",
      "metadata": {
        "id": "2d843c04-4d6a-4bdb-b492-0ae740ea0311"
      },
      "source": [
        "With the _**Business Understanding**_ out of the way, the next step is to understand the data to be obtained and used for the task. This will involve the process of __*Exploratory Data Analysis (EDA)*__.\n",
        "\n",
        "EDA is the process of sifting through data with the goal of extracting insights. These insights allow a better understanding of the available data and what can be done with it. They can also be used for guided preparation of the dataset in the appropriate manner. Just like regular analysis, EDA begins with a set of __questions__ and/or __hypotheses__. The EDA process will then prove or disprove these hypotheses, and hopefully, reveal other points of inquiry along the way.\n",
        "\n",
        "The required libraries and packages are imported first. The EDA process is carried out here as shown below. The high-level steps to follow are:\n",
        "\n",
        "1. Import the required libraries\n",
        "2. Load in the dataset\n",
        "3. Analyze and observe its properties.\n",
        "   * Missing data\n",
        "   * Inconsistent values\n",
        "   * Low categorical cardinality\n",
        "   * Feature correlations\n",
        "4. Report on these properties and how they might affect our final solution."
      ]
    },
    {
      "cell_type": "markdown",
      "id": "5491b686-4e15-4541-b1ca-5ba911cfd973",
      "metadata": {
        "id": "5491b686-4e15-4541-b1ca-5ba911cfd973"
      },
      "source": [
        "<div align=\"center\"><h3>2.1. Enter EDA Code Here</h3></div>"
      ]
    },
    {
      "cell_type": "code",
      "execution_count": 5,
      "id": "3f6666f2-bfe6-466f-8439-ff27274c2055",
      "metadata": {
        "id": "3f6666f2-bfe6-466f-8439-ff27274c2055"
      },
      "outputs": [],
      "source": [
        "# Import required utilities\n",
        "import pandas as pd\n",
        "import numpy as np\n",
        "\n",
        "import seaborn as sns\n",
        "import matplotlib.pyplot as plt\n",
        "\n",
        "sns.set()\n",
        "\n",
        "from sklearn.neighbors import LocalOutlierFactor"
      ]
    },
    {
      "cell_type": "code",
      "execution_count": 6,
      "id": "ba166f6a-09ab-40a3-be2b-c19dff574586",
      "metadata": {
        "id": "ba166f6a-09ab-40a3-be2b-c19dff574586"
      },
      "outputs": [],
      "source": [
        "# Seed for reproducibility\n",
        "SEED = np.random.seed(seed = 2023)"
      ]
    },
    {
      "cell_type": "code",
      "execution_count": 7,
      "id": "1898c715-1665-4ea8-96ba-b782b6614190",
      "metadata": {
        "id": "1898c715-1665-4ea8-96ba-b782b6614190"
      },
      "outputs": [],
      "source": [
        "data = pd.read_csv('Jewelry_Dataset.csv')\n",
        "\n",
        "data.columns = [\n",
        "    \"Order_datetime\",\n",
        "    \"Order_ID\",\n",
        "    \"Product_ID\",\n",
        "    \"SKU_Quantity\",\n",
        "    \"Category_ID\",\n",
        "    \"Category\",\n",
        "    \"Brand_ID\",\n",
        "    \"Price_USD\",\n",
        "    \"User_ID\",\n",
        "    \"Target_Gender\",\n",
        "    \"Main_Color\",\n",
        "    \"Main_Metal\",\n",
        "    \"Main_Gem\",\n",
        "]\n",
        "\n",
        "data2 = data.copy()"
      ]
    },
    {
      "cell_type": "markdown",
      "id": "b228d069-565a-4dab-9eb6-d0ca9633409e",
      "metadata": {
        "id": "b228d069-565a-4dab-9eb6-d0ca9633409e"
      },
      "source": [
        "##### Cardinality"
      ]
    },
    {
      "cell_type": "code",
      "execution_count": 8,
      "id": "8a766b58-e506-4f3e-b588-034699289a5a",
      "metadata": {
        "id": "8a766b58-e506-4f3e-b588-034699289a5a",
        "colab": {
          "base_uri": "https://localhost:8080/",
          "height": 492
        },
        "outputId": "de79d6b6-a231-4185-a630-fcfb264cfa9f"
      },
      "outputs": [
        {
          "output_type": "execute_result",
          "data": {
            "text/plain": [
              "Order_datetime    74505\n",
              "Order_ID          32910\n",
              "Product_ID         1706\n",
              "SKU_Quantity          1\n",
              "Category_ID           2\n",
              "Category            218\n",
              "Brand_ID             37\n",
              "Price_USD          3166\n",
              "User_ID             396\n",
              "Target_Gender         2\n",
              "Main_Color            5\n",
              "Main_Metal            3\n",
              "Main_Gem             30\n",
              "dtype: int64"
            ],
            "text/html": [
              "<div>\n",
              "<style scoped>\n",
              "    .dataframe tbody tr th:only-of-type {\n",
              "        vertical-align: middle;\n",
              "    }\n",
              "\n",
              "    .dataframe tbody tr th {\n",
              "        vertical-align: top;\n",
              "    }\n",
              "\n",
              "    .dataframe thead th {\n",
              "        text-align: right;\n",
              "    }\n",
              "</style>\n",
              "<table border=\"1\" class=\"dataframe\">\n",
              "  <thead>\n",
              "    <tr style=\"text-align: right;\">\n",
              "      <th></th>\n",
              "      <th>0</th>\n",
              "    </tr>\n",
              "  </thead>\n",
              "  <tbody>\n",
              "    <tr>\n",
              "      <th>Order_datetime</th>\n",
              "      <td>74505</td>\n",
              "    </tr>\n",
              "    <tr>\n",
              "      <th>Order_ID</th>\n",
              "      <td>32910</td>\n",
              "    </tr>\n",
              "    <tr>\n",
              "      <th>Product_ID</th>\n",
              "      <td>1706</td>\n",
              "    </tr>\n",
              "    <tr>\n",
              "      <th>SKU_Quantity</th>\n",
              "      <td>1</td>\n",
              "    </tr>\n",
              "    <tr>\n",
              "      <th>Category_ID</th>\n",
              "      <td>2</td>\n",
              "    </tr>\n",
              "    <tr>\n",
              "      <th>Category</th>\n",
              "      <td>218</td>\n",
              "    </tr>\n",
              "    <tr>\n",
              "      <th>Brand_ID</th>\n",
              "      <td>37</td>\n",
              "    </tr>\n",
              "    <tr>\n",
              "      <th>Price_USD</th>\n",
              "      <td>3166</td>\n",
              "    </tr>\n",
              "    <tr>\n",
              "      <th>User_ID</th>\n",
              "      <td>396</td>\n",
              "    </tr>\n",
              "    <tr>\n",
              "      <th>Target_Gender</th>\n",
              "      <td>2</td>\n",
              "    </tr>\n",
              "    <tr>\n",
              "      <th>Main_Color</th>\n",
              "      <td>5</td>\n",
              "    </tr>\n",
              "    <tr>\n",
              "      <th>Main_Metal</th>\n",
              "      <td>3</td>\n",
              "    </tr>\n",
              "    <tr>\n",
              "      <th>Main_Gem</th>\n",
              "      <td>30</td>\n",
              "    </tr>\n",
              "  </tbody>\n",
              "</table>\n",
              "</div><br><label><b>dtype:</b> int64</label>"
            ]
          },
          "metadata": {},
          "execution_count": 8
        }
      ],
      "source": [
        "# Feature cardinality\n",
        "data.nunique()"
      ]
    },
    {
      "cell_type": "code",
      "execution_count": 9,
      "id": "ba14061f-ba18-4f51-aee9-6a8a5441926d",
      "metadata": {
        "id": "ba14061f-ba18-4f51-aee9-6a8a5441926d",
        "colab": {
          "base_uri": "https://localhost:8080/",
          "height": 206
        },
        "outputId": "f6835af4-0362-4709-b5e5-c50868b42b6b"
      },
      "outputs": [
        {
          "output_type": "execute_result",
          "data": {
            "text/plain": [
              "            Order_datetime      Order_ID    Product_ID  SKU_Quantity  \\\n",
              "0  2018-12-01 11:40:29 UTC  1.924720e+18  1.842200e+18             1   \n",
              "1  2018-12-01 17:38:31 UTC  1.924900e+18  1.806830e+18             1   \n",
              "2  2018-12-02 13:53:42 UTC  1.925510e+18  1.842210e+18             1   \n",
              "3  2018-12-02 17:44:02 UTC  1.925630e+18  1.835570e+18             1   \n",
              "4  2018-12-02 21:30:19 UTC  1.925740e+18  1.873940e+18             1   \n",
              "\n",
              "    Category_ID          Category  Brand_ID  Price_USD       User_ID  \\\n",
              "0  1.806830e+18   jewelry.earring       0.0     561.51  1.515920e+18   \n",
              "1  1.806830e+18               NaN       NaN     212.14  1.515920e+18   \n",
              "2  1.806830e+18   jewelry.pendant       1.0      54.66  1.515920e+18   \n",
              "3  1.806830e+18   jewelry.pendant       0.0      88.90  1.515920e+18   \n",
              "4  1.806830e+18  jewelry.necklace       0.0     417.67  1.515920e+18   \n",
              "\n",
              "  Target_Gender Main_Color Main_Metal  Main_Gem  \n",
              "0           NaN        red       gold   diamond  \n",
              "1           NaN     yellow       gold       NaN  \n",
              "2             f      white       gold  sapphire  \n",
              "3             f        red       gold   diamond  \n",
              "4           NaN        red       gold  amethyst  "
            ],
            "text/html": [
              "\n",
              "  <div id=\"df-bbb9f242-58f4-49d5-9e50-ee14521316c4\" class=\"colab-df-container\">\n",
              "    <div>\n",
              "<style scoped>\n",
              "    .dataframe tbody tr th:only-of-type {\n",
              "        vertical-align: middle;\n",
              "    }\n",
              "\n",
              "    .dataframe tbody tr th {\n",
              "        vertical-align: top;\n",
              "    }\n",
              "\n",
              "    .dataframe thead th {\n",
              "        text-align: right;\n",
              "    }\n",
              "</style>\n",
              "<table border=\"1\" class=\"dataframe\">\n",
              "  <thead>\n",
              "    <tr style=\"text-align: right;\">\n",
              "      <th></th>\n",
              "      <th>Order_datetime</th>\n",
              "      <th>Order_ID</th>\n",
              "      <th>Product_ID</th>\n",
              "      <th>SKU_Quantity</th>\n",
              "      <th>Category_ID</th>\n",
              "      <th>Category</th>\n",
              "      <th>Brand_ID</th>\n",
              "      <th>Price_USD</th>\n",
              "      <th>User_ID</th>\n",
              "      <th>Target_Gender</th>\n",
              "      <th>Main_Color</th>\n",
              "      <th>Main_Metal</th>\n",
              "      <th>Main_Gem</th>\n",
              "    </tr>\n",
              "  </thead>\n",
              "  <tbody>\n",
              "    <tr>\n",
              "      <th>0</th>\n",
              "      <td>2018-12-01 11:40:29 UTC</td>\n",
              "      <td>1.924720e+18</td>\n",
              "      <td>1.842200e+18</td>\n",
              "      <td>1</td>\n",
              "      <td>1.806830e+18</td>\n",
              "      <td>jewelry.earring</td>\n",
              "      <td>0.0</td>\n",
              "      <td>561.51</td>\n",
              "      <td>1.515920e+18</td>\n",
              "      <td>NaN</td>\n",
              "      <td>red</td>\n",
              "      <td>gold</td>\n",
              "      <td>diamond</td>\n",
              "    </tr>\n",
              "    <tr>\n",
              "      <th>1</th>\n",
              "      <td>2018-12-01 17:38:31 UTC</td>\n",
              "      <td>1.924900e+18</td>\n",
              "      <td>1.806830e+18</td>\n",
              "      <td>1</td>\n",
              "      <td>1.806830e+18</td>\n",
              "      <td>NaN</td>\n",
              "      <td>NaN</td>\n",
              "      <td>212.14</td>\n",
              "      <td>1.515920e+18</td>\n",
              "      <td>NaN</td>\n",
              "      <td>yellow</td>\n",
              "      <td>gold</td>\n",
              "      <td>NaN</td>\n",
              "    </tr>\n",
              "    <tr>\n",
              "      <th>2</th>\n",
              "      <td>2018-12-02 13:53:42 UTC</td>\n",
              "      <td>1.925510e+18</td>\n",
              "      <td>1.842210e+18</td>\n",
              "      <td>1</td>\n",
              "      <td>1.806830e+18</td>\n",
              "      <td>jewelry.pendant</td>\n",
              "      <td>1.0</td>\n",
              "      <td>54.66</td>\n",
              "      <td>1.515920e+18</td>\n",
              "      <td>f</td>\n",
              "      <td>white</td>\n",
              "      <td>gold</td>\n",
              "      <td>sapphire</td>\n",
              "    </tr>\n",
              "    <tr>\n",
              "      <th>3</th>\n",
              "      <td>2018-12-02 17:44:02 UTC</td>\n",
              "      <td>1.925630e+18</td>\n",
              "      <td>1.835570e+18</td>\n",
              "      <td>1</td>\n",
              "      <td>1.806830e+18</td>\n",
              "      <td>jewelry.pendant</td>\n",
              "      <td>0.0</td>\n",
              "      <td>88.90</td>\n",
              "      <td>1.515920e+18</td>\n",
              "      <td>f</td>\n",
              "      <td>red</td>\n",
              "      <td>gold</td>\n",
              "      <td>diamond</td>\n",
              "    </tr>\n",
              "    <tr>\n",
              "      <th>4</th>\n",
              "      <td>2018-12-02 21:30:19 UTC</td>\n",
              "      <td>1.925740e+18</td>\n",
              "      <td>1.873940e+18</td>\n",
              "      <td>1</td>\n",
              "      <td>1.806830e+18</td>\n",
              "      <td>jewelry.necklace</td>\n",
              "      <td>0.0</td>\n",
              "      <td>417.67</td>\n",
              "      <td>1.515920e+18</td>\n",
              "      <td>NaN</td>\n",
              "      <td>red</td>\n",
              "      <td>gold</td>\n",
              "      <td>amethyst</td>\n",
              "    </tr>\n",
              "  </tbody>\n",
              "</table>\n",
              "</div>\n",
              "    <div class=\"colab-df-buttons\">\n",
              "\n",
              "  <div class=\"colab-df-container\">\n",
              "    <button class=\"colab-df-convert\" onclick=\"convertToInteractive('df-bbb9f242-58f4-49d5-9e50-ee14521316c4')\"\n",
              "            title=\"Convert this dataframe to an interactive table.\"\n",
              "            style=\"display:none;\">\n",
              "\n",
              "  <svg xmlns=\"http://www.w3.org/2000/svg\" height=\"24px\" viewBox=\"0 -960 960 960\">\n",
              "    <path d=\"M120-120v-720h720v720H120Zm60-500h600v-160H180v160Zm220 220h160v-160H400v160Zm0 220h160v-160H400v160ZM180-400h160v-160H180v160Zm440 0h160v-160H620v160ZM180-180h160v-160H180v160Zm440 0h160v-160H620v160Z\"/>\n",
              "  </svg>\n",
              "    </button>\n",
              "\n",
              "  <style>\n",
              "    .colab-df-container {\n",
              "      display:flex;\n",
              "      gap: 12px;\n",
              "    }\n",
              "\n",
              "    .colab-df-convert {\n",
              "      background-color: #E8F0FE;\n",
              "      border: none;\n",
              "      border-radius: 50%;\n",
              "      cursor: pointer;\n",
              "      display: none;\n",
              "      fill: #1967D2;\n",
              "      height: 32px;\n",
              "      padding: 0 0 0 0;\n",
              "      width: 32px;\n",
              "    }\n",
              "\n",
              "    .colab-df-convert:hover {\n",
              "      background-color: #E2EBFA;\n",
              "      box-shadow: 0px 1px 2px rgba(60, 64, 67, 0.3), 0px 1px 3px 1px rgba(60, 64, 67, 0.15);\n",
              "      fill: #174EA6;\n",
              "    }\n",
              "\n",
              "    .colab-df-buttons div {\n",
              "      margin-bottom: 4px;\n",
              "    }\n",
              "\n",
              "    [theme=dark] .colab-df-convert {\n",
              "      background-color: #3B4455;\n",
              "      fill: #D2E3FC;\n",
              "    }\n",
              "\n",
              "    [theme=dark] .colab-df-convert:hover {\n",
              "      background-color: #434B5C;\n",
              "      box-shadow: 0px 1px 3px 1px rgba(0, 0, 0, 0.15);\n",
              "      filter: drop-shadow(0px 1px 2px rgba(0, 0, 0, 0.3));\n",
              "      fill: #FFFFFF;\n",
              "    }\n",
              "  </style>\n",
              "\n",
              "    <script>\n",
              "      const buttonEl =\n",
              "        document.querySelector('#df-bbb9f242-58f4-49d5-9e50-ee14521316c4 button.colab-df-convert');\n",
              "      buttonEl.style.display =\n",
              "        google.colab.kernel.accessAllowed ? 'block' : 'none';\n",
              "\n",
              "      async function convertToInteractive(key) {\n",
              "        const element = document.querySelector('#df-bbb9f242-58f4-49d5-9e50-ee14521316c4');\n",
              "        const dataTable =\n",
              "          await google.colab.kernel.invokeFunction('convertToInteractive',\n",
              "                                                    [key], {});\n",
              "        if (!dataTable) return;\n",
              "\n",
              "        const docLinkHtml = 'Like what you see? Visit the ' +\n",
              "          '<a target=\"_blank\" href=https://colab.research.google.com/notebooks/data_table.ipynb>data table notebook</a>'\n",
              "          + ' to learn more about interactive tables.';\n",
              "        element.innerHTML = '';\n",
              "        dataTable['output_type'] = 'display_data';\n",
              "        await google.colab.output.renderOutput(dataTable, element);\n",
              "        const docLink = document.createElement('div');\n",
              "        docLink.innerHTML = docLinkHtml;\n",
              "        element.appendChild(docLink);\n",
              "      }\n",
              "    </script>\n",
              "  </div>\n",
              "\n",
              "\n",
              "<div id=\"df-25a03927-9f1c-45a9-a0e6-a33dbeaf8d6f\">\n",
              "  <button class=\"colab-df-quickchart\" onclick=\"quickchart('df-25a03927-9f1c-45a9-a0e6-a33dbeaf8d6f')\"\n",
              "            title=\"Suggest charts\"\n",
              "            style=\"display:none;\">\n",
              "\n",
              "<svg xmlns=\"http://www.w3.org/2000/svg\" height=\"24px\"viewBox=\"0 0 24 24\"\n",
              "     width=\"24px\">\n",
              "    <g>\n",
              "        <path d=\"M19 3H5c-1.1 0-2 .9-2 2v14c0 1.1.9 2 2 2h14c1.1 0 2-.9 2-2V5c0-1.1-.9-2-2-2zM9 17H7v-7h2v7zm4 0h-2V7h2v10zm4 0h-2v-4h2v4z\"/>\n",
              "    </g>\n",
              "</svg>\n",
              "  </button>\n",
              "\n",
              "<style>\n",
              "  .colab-df-quickchart {\n",
              "      --bg-color: #E8F0FE;\n",
              "      --fill-color: #1967D2;\n",
              "      --hover-bg-color: #E2EBFA;\n",
              "      --hover-fill-color: #174EA6;\n",
              "      --disabled-fill-color: #AAA;\n",
              "      --disabled-bg-color: #DDD;\n",
              "  }\n",
              "\n",
              "  [theme=dark] .colab-df-quickchart {\n",
              "      --bg-color: #3B4455;\n",
              "      --fill-color: #D2E3FC;\n",
              "      --hover-bg-color: #434B5C;\n",
              "      --hover-fill-color: #FFFFFF;\n",
              "      --disabled-bg-color: #3B4455;\n",
              "      --disabled-fill-color: #666;\n",
              "  }\n",
              "\n",
              "  .colab-df-quickchart {\n",
              "    background-color: var(--bg-color);\n",
              "    border: none;\n",
              "    border-radius: 50%;\n",
              "    cursor: pointer;\n",
              "    display: none;\n",
              "    fill: var(--fill-color);\n",
              "    height: 32px;\n",
              "    padding: 0;\n",
              "    width: 32px;\n",
              "  }\n",
              "\n",
              "  .colab-df-quickchart:hover {\n",
              "    background-color: var(--hover-bg-color);\n",
              "    box-shadow: 0 1px 2px rgba(60, 64, 67, 0.3), 0 1px 3px 1px rgba(60, 64, 67, 0.15);\n",
              "    fill: var(--button-hover-fill-color);\n",
              "  }\n",
              "\n",
              "  .colab-df-quickchart-complete:disabled,\n",
              "  .colab-df-quickchart-complete:disabled:hover {\n",
              "    background-color: var(--disabled-bg-color);\n",
              "    fill: var(--disabled-fill-color);\n",
              "    box-shadow: none;\n",
              "  }\n",
              "\n",
              "  .colab-df-spinner {\n",
              "    border: 2px solid var(--fill-color);\n",
              "    border-color: transparent;\n",
              "    border-bottom-color: var(--fill-color);\n",
              "    animation:\n",
              "      spin 1s steps(1) infinite;\n",
              "  }\n",
              "\n",
              "  @keyframes spin {\n",
              "    0% {\n",
              "      border-color: transparent;\n",
              "      border-bottom-color: var(--fill-color);\n",
              "      border-left-color: var(--fill-color);\n",
              "    }\n",
              "    20% {\n",
              "      border-color: transparent;\n",
              "      border-left-color: var(--fill-color);\n",
              "      border-top-color: var(--fill-color);\n",
              "    }\n",
              "    30% {\n",
              "      border-color: transparent;\n",
              "      border-left-color: var(--fill-color);\n",
              "      border-top-color: var(--fill-color);\n",
              "      border-right-color: var(--fill-color);\n",
              "    }\n",
              "    40% {\n",
              "      border-color: transparent;\n",
              "      border-right-color: var(--fill-color);\n",
              "      border-top-color: var(--fill-color);\n",
              "    }\n",
              "    60% {\n",
              "      border-color: transparent;\n",
              "      border-right-color: var(--fill-color);\n",
              "    }\n",
              "    80% {\n",
              "      border-color: transparent;\n",
              "      border-right-color: var(--fill-color);\n",
              "      border-bottom-color: var(--fill-color);\n",
              "    }\n",
              "    90% {\n",
              "      border-color: transparent;\n",
              "      border-bottom-color: var(--fill-color);\n",
              "    }\n",
              "  }\n",
              "</style>\n",
              "\n",
              "  <script>\n",
              "    async function quickchart(key) {\n",
              "      const quickchartButtonEl =\n",
              "        document.querySelector('#' + key + ' button');\n",
              "      quickchartButtonEl.disabled = true;  // To prevent multiple clicks.\n",
              "      quickchartButtonEl.classList.add('colab-df-spinner');\n",
              "      try {\n",
              "        const charts = await google.colab.kernel.invokeFunction(\n",
              "            'suggestCharts', [key], {});\n",
              "      } catch (error) {\n",
              "        console.error('Error during call to suggestCharts:', error);\n",
              "      }\n",
              "      quickchartButtonEl.classList.remove('colab-df-spinner');\n",
              "      quickchartButtonEl.classList.add('colab-df-quickchart-complete');\n",
              "    }\n",
              "    (() => {\n",
              "      let quickchartButtonEl =\n",
              "        document.querySelector('#df-25a03927-9f1c-45a9-a0e6-a33dbeaf8d6f button');\n",
              "      quickchartButtonEl.style.display =\n",
              "        google.colab.kernel.accessAllowed ? 'block' : 'none';\n",
              "    })();\n",
              "  </script>\n",
              "</div>\n",
              "\n",
              "    </div>\n",
              "  </div>\n"
            ],
            "application/vnd.google.colaboratory.intrinsic+json": {
              "type": "dataframe",
              "variable_name": "data",
              "summary": "{\n  \"name\": \"data\",\n  \"rows\": 95911,\n  \"fields\": [\n    {\n      \"column\": \"Order_datetime\",\n      \"properties\": {\n        \"dtype\": \"object\",\n        \"num_unique_values\": 74505,\n        \"samples\": [\n          \"2021-11-08 15:53:45 UTC\",\n          \"2020-12-23 12:55:08 UTC\",\n          \"2021-04-09 13:21:47 UTC\"\n        ],\n        \"semantic_type\": \"\",\n        \"description\": \"\"\n      }\n    },\n    {\n      \"column\": \"Order_ID\",\n      \"properties\": {\n        \"dtype\": \"number\",\n        \"std\": 1.9348249041643747e+17,\n        \"min\": 1.92472e+18,\n        \"max\": 2.71902e+18,\n        \"num_unique_values\": 32910,\n        \"samples\": [\n          2.57623e+18,\n          2.01317e+18,\n          2.60739e+18\n        ],\n        \"semantic_type\": \"\",\n        \"description\": \"\"\n      }\n    },\n    {\n      \"column\": \"Product_ID\",\n      \"properties\": {\n        \"dtype\": \"number\",\n        \"std\": 2.136776686583573e+17,\n        \"min\": 1.31355e+18,\n        \"max\": 2.54196e+18,\n        \"num_unique_values\": 1706,\n        \"samples\": [\n          1.52605e+18,\n          2.4002e+18,\n          1.88005e+18\n        ],\n        \"semantic_type\": \"\",\n        \"description\": \"\"\n      }\n    },\n    {\n      \"column\": \"SKU_Quantity\",\n      \"properties\": {\n        \"dtype\": \"number\",\n        \"std\": 0,\n        \"min\": 1,\n        \"max\": 1,\n        \"num_unique_values\": 1,\n        \"samples\": [\n          1\n        ],\n        \"semantic_type\": \"\",\n        \"description\": \"\"\n      }\n    },\n    {\n      \"column\": \"Category_ID\",\n      \"properties\": {\n        \"dtype\": \"number\",\n        \"std\": 2.0839357897096004e+16,\n        \"min\": 1.31368e+18,\n        \"max\": 1.80683e+18,\n        \"num_unique_values\": 2,\n        \"samples\": [\n          1.31368e+18\n        ],\n        \"semantic_type\": \"\",\n        \"description\": \"\"\n      }\n    },\n    {\n      \"column\": \"Category\",\n      \"properties\": {\n        \"dtype\": \"category\",\n        \"num_unique_values\": 218,\n        \"samples\": [\n          \"7.4\"\n        ],\n        \"semantic_type\": \"\",\n        \"description\": \"\"\n      }\n    },\n    {\n      \"column\": \"Brand_ID\",\n      \"properties\": {\n        \"dtype\": \"number\",\n        \"std\": 3.5596429072333165e+17,\n        \"min\": 0.0,\n        \"max\": 1.55061e+18,\n        \"num_unique_values\": 37,\n        \"samples\": [\n          1.33328e+18\n        ],\n        \"semantic_type\": \"\",\n        \"description\": \"\"\n      }\n    },\n    {\n      \"column\": \"Price_USD\",\n      \"properties\": {\n        \"dtype\": \"number\",\n        \"std\": 444.1557059036402,\n        \"min\": 0.99,\n        \"max\": 34448.6,\n        \"num_unique_values\": 3166,\n        \"samples\": [\n          114.93\n        ],\n        \"semantic_type\": \"\",\n        \"description\": \"\"\n      }\n    },\n    {\n      \"column\": \"User_ID\",\n      \"properties\": {\n        \"dtype\": \"number\",\n        \"std\": 2.3748128483083376e+16,\n        \"min\": 1.31355e+18,\n        \"max\": 1.5543e+18,\n        \"num_unique_values\": 396,\n        \"samples\": [\n          1.48035e+18\n        ],\n        \"semantic_type\": \"\",\n        \"description\": \"\"\n      }\n    },\n    {\n      \"column\": \"Target_Gender\",\n      \"properties\": {\n        \"dtype\": \"category\",\n        \"num_unique_values\": 2,\n        \"samples\": [\n          \"m\"\n        ],\n        \"semantic_type\": \"\",\n        \"description\": \"\"\n      }\n    },\n    {\n      \"column\": \"Main_Color\",\n      \"properties\": {\n        \"dtype\": \"category\",\n        \"num_unique_values\": 5,\n        \"samples\": [\n          \"yellow\"\n        ],\n        \"semantic_type\": \"\",\n        \"description\": \"\"\n      }\n    },\n    {\n      \"column\": \"Main_Metal\",\n      \"properties\": {\n        \"dtype\": \"category\",\n        \"num_unique_values\": 3,\n        \"samples\": [\n          \"gold\"\n        ],\n        \"semantic_type\": \"\",\n        \"description\": \"\"\n      }\n    },\n    {\n      \"column\": \"Main_Gem\",\n      \"properties\": {\n        \"dtype\": \"category\",\n        \"num_unique_values\": 30,\n        \"samples\": [\n          \"garnet_synthetic\"\n        ],\n        \"semantic_type\": \"\",\n        \"description\": \"\"\n      }\n    }\n  ]\n}"
            }
          },
          "metadata": {},
          "execution_count": 9
        }
      ],
      "source": [
        "data.head()"
      ]
    },
    {
      "cell_type": "markdown",
      "id": "c44a6544-2bc3-4f96-b2d4-ee95bcc44558",
      "metadata": {
        "id": "c44a6544-2bc3-4f96-b2d4-ee95bcc44558"
      },
      "source": [
        "#### Data summary"
      ]
    },
    {
      "cell_type": "code",
      "execution_count": 10,
      "id": "885509b4-1ab9-46fc-a4a6-d71d7c30454c",
      "metadata": {
        "id": "885509b4-1ab9-46fc-a4a6-d71d7c30454c",
        "colab": {
          "base_uri": "https://localhost:8080/",
          "height": 394
        },
        "outputId": "b31e25c5-962b-4b24-fae2-b37eff431617"
      },
      "outputs": [
        {
          "output_type": "execute_result",
          "data": {
            "text/plain": [
              "                 Order_datetime      Order_ID    Product_ID  SKU_Quantity  \\\n",
              "count                     95911  9.591100e+04  9.591100e+04       95911.0   \n",
              "unique                    74505           NaN           NaN           NaN   \n",
              "top     2020-10-17 12:58:28 UTC           NaN           NaN           NaN   \n",
              "freq                         26           NaN           NaN           NaN   \n",
              "mean                        NaN  2.485185e+18  1.815969e+18           1.0   \n",
              "std                         NaN  1.934825e+17  2.136777e+17           0.0   \n",
              "min                         NaN  1.924720e+18  1.313550e+18           1.0   \n",
              "25%                         NaN  2.379725e+18  1.515970e+18           1.0   \n",
              "50%                         NaN  2.524280e+18  1.956660e+18           1.0   \n",
              "75%                         NaN  2.644350e+18  1.956660e+18           1.0   \n",
              "max                         NaN  2.719020e+18  2.541960e+18           1.0   \n",
              "\n",
              "         Category_ID         Category      Brand_ID     Price_USD  \\\n",
              "count   9.055900e+04            85978  9.112600e+04  90559.000000   \n",
              "unique           NaN              218           NaN           NaN   \n",
              "top              NaN  jewelry.earring           NaN           NaN   \n",
              "freq             NaN            29052           NaN           NaN   \n",
              "mean    1.805948e+18              NaN  8.890964e+16    362.215217   \n",
              "std     2.083936e+16              NaN  3.559643e+17    444.155706   \n",
              "min     1.313680e+18              NaN  0.000000e+00      0.990000   \n",
              "25%     1.806830e+18              NaN  0.000000e+00    145.620000   \n",
              "50%     1.806830e+18              NaN  1.000000e+00    258.770000   \n",
              "75%     1.806830e+18              NaN  1.000000e+00    431.370000   \n",
              "max     1.806830e+18              NaN  1.550610e+18  34448.600000   \n",
              "\n",
              "             User_ID Target_Gender Main_Color Main_Metal Main_Gem  \n",
              "count   9.055900e+04         47743      88251      90449    61853  \n",
              "unique           NaN             2          5          3       30  \n",
              "top              NaN             f        red       gold  diamond  \n",
              "freq             NaN         47379      69511      89082    29610  \n",
              "mean    1.512648e+18           NaN        NaN        NaN      NaN  \n",
              "std     2.374813e+16           NaN        NaN        NaN      NaN  \n",
              "min     1.313550e+18           NaN        NaN        NaN      NaN  \n",
              "25%     1.515920e+18           NaN        NaN        NaN      NaN  \n",
              "50%     1.515920e+18           NaN        NaN        NaN      NaN  \n",
              "75%     1.515920e+18           NaN        NaN        NaN      NaN  \n",
              "max     1.554300e+18           NaN        NaN        NaN      NaN  "
            ],
            "text/html": [
              "\n",
              "  <div id=\"df-9b72e3c4-c9ab-4fbc-abc2-ef540abda925\" class=\"colab-df-container\">\n",
              "    <div>\n",
              "<style scoped>\n",
              "    .dataframe tbody tr th:only-of-type {\n",
              "        vertical-align: middle;\n",
              "    }\n",
              "\n",
              "    .dataframe tbody tr th {\n",
              "        vertical-align: top;\n",
              "    }\n",
              "\n",
              "    .dataframe thead th {\n",
              "        text-align: right;\n",
              "    }\n",
              "</style>\n",
              "<table border=\"1\" class=\"dataframe\">\n",
              "  <thead>\n",
              "    <tr style=\"text-align: right;\">\n",
              "      <th></th>\n",
              "      <th>Order_datetime</th>\n",
              "      <th>Order_ID</th>\n",
              "      <th>Product_ID</th>\n",
              "      <th>SKU_Quantity</th>\n",
              "      <th>Category_ID</th>\n",
              "      <th>Category</th>\n",
              "      <th>Brand_ID</th>\n",
              "      <th>Price_USD</th>\n",
              "      <th>User_ID</th>\n",
              "      <th>Target_Gender</th>\n",
              "      <th>Main_Color</th>\n",
              "      <th>Main_Metal</th>\n",
              "      <th>Main_Gem</th>\n",
              "    </tr>\n",
              "  </thead>\n",
              "  <tbody>\n",
              "    <tr>\n",
              "      <th>count</th>\n",
              "      <td>95911</td>\n",
              "      <td>9.591100e+04</td>\n",
              "      <td>9.591100e+04</td>\n",
              "      <td>95911.0</td>\n",
              "      <td>9.055900e+04</td>\n",
              "      <td>85978</td>\n",
              "      <td>9.112600e+04</td>\n",
              "      <td>90559.000000</td>\n",
              "      <td>9.055900e+04</td>\n",
              "      <td>47743</td>\n",
              "      <td>88251</td>\n",
              "      <td>90449</td>\n",
              "      <td>61853</td>\n",
              "    </tr>\n",
              "    <tr>\n",
              "      <th>unique</th>\n",
              "      <td>74505</td>\n",
              "      <td>NaN</td>\n",
              "      <td>NaN</td>\n",
              "      <td>NaN</td>\n",
              "      <td>NaN</td>\n",
              "      <td>218</td>\n",
              "      <td>NaN</td>\n",
              "      <td>NaN</td>\n",
              "      <td>NaN</td>\n",
              "      <td>2</td>\n",
              "      <td>5</td>\n",
              "      <td>3</td>\n",
              "      <td>30</td>\n",
              "    </tr>\n",
              "    <tr>\n",
              "      <th>top</th>\n",
              "      <td>2020-10-17 12:58:28 UTC</td>\n",
              "      <td>NaN</td>\n",
              "      <td>NaN</td>\n",
              "      <td>NaN</td>\n",
              "      <td>NaN</td>\n",
              "      <td>jewelry.earring</td>\n",
              "      <td>NaN</td>\n",
              "      <td>NaN</td>\n",
              "      <td>NaN</td>\n",
              "      <td>f</td>\n",
              "      <td>red</td>\n",
              "      <td>gold</td>\n",
              "      <td>diamond</td>\n",
              "    </tr>\n",
              "    <tr>\n",
              "      <th>freq</th>\n",
              "      <td>26</td>\n",
              "      <td>NaN</td>\n",
              "      <td>NaN</td>\n",
              "      <td>NaN</td>\n",
              "      <td>NaN</td>\n",
              "      <td>29052</td>\n",
              "      <td>NaN</td>\n",
              "      <td>NaN</td>\n",
              "      <td>NaN</td>\n",
              "      <td>47379</td>\n",
              "      <td>69511</td>\n",
              "      <td>89082</td>\n",
              "      <td>29610</td>\n",
              "    </tr>\n",
              "    <tr>\n",
              "      <th>mean</th>\n",
              "      <td>NaN</td>\n",
              "      <td>2.485185e+18</td>\n",
              "      <td>1.815969e+18</td>\n",
              "      <td>1.0</td>\n",
              "      <td>1.805948e+18</td>\n",
              "      <td>NaN</td>\n",
              "      <td>8.890964e+16</td>\n",
              "      <td>362.215217</td>\n",
              "      <td>1.512648e+18</td>\n",
              "      <td>NaN</td>\n",
              "      <td>NaN</td>\n",
              "      <td>NaN</td>\n",
              "      <td>NaN</td>\n",
              "    </tr>\n",
              "    <tr>\n",
              "      <th>std</th>\n",
              "      <td>NaN</td>\n",
              "      <td>1.934825e+17</td>\n",
              "      <td>2.136777e+17</td>\n",
              "      <td>0.0</td>\n",
              "      <td>2.083936e+16</td>\n",
              "      <td>NaN</td>\n",
              "      <td>3.559643e+17</td>\n",
              "      <td>444.155706</td>\n",
              "      <td>2.374813e+16</td>\n",
              "      <td>NaN</td>\n",
              "      <td>NaN</td>\n",
              "      <td>NaN</td>\n",
              "      <td>NaN</td>\n",
              "    </tr>\n",
              "    <tr>\n",
              "      <th>min</th>\n",
              "      <td>NaN</td>\n",
              "      <td>1.924720e+18</td>\n",
              "      <td>1.313550e+18</td>\n",
              "      <td>1.0</td>\n",
              "      <td>1.313680e+18</td>\n",
              "      <td>NaN</td>\n",
              "      <td>0.000000e+00</td>\n",
              "      <td>0.990000</td>\n",
              "      <td>1.313550e+18</td>\n",
              "      <td>NaN</td>\n",
              "      <td>NaN</td>\n",
              "      <td>NaN</td>\n",
              "      <td>NaN</td>\n",
              "    </tr>\n",
              "    <tr>\n",
              "      <th>25%</th>\n",
              "      <td>NaN</td>\n",
              "      <td>2.379725e+18</td>\n",
              "      <td>1.515970e+18</td>\n",
              "      <td>1.0</td>\n",
              "      <td>1.806830e+18</td>\n",
              "      <td>NaN</td>\n",
              "      <td>0.000000e+00</td>\n",
              "      <td>145.620000</td>\n",
              "      <td>1.515920e+18</td>\n",
              "      <td>NaN</td>\n",
              "      <td>NaN</td>\n",
              "      <td>NaN</td>\n",
              "      <td>NaN</td>\n",
              "    </tr>\n",
              "    <tr>\n",
              "      <th>50%</th>\n",
              "      <td>NaN</td>\n",
              "      <td>2.524280e+18</td>\n",
              "      <td>1.956660e+18</td>\n",
              "      <td>1.0</td>\n",
              "      <td>1.806830e+18</td>\n",
              "      <td>NaN</td>\n",
              "      <td>1.000000e+00</td>\n",
              "      <td>258.770000</td>\n",
              "      <td>1.515920e+18</td>\n",
              "      <td>NaN</td>\n",
              "      <td>NaN</td>\n",
              "      <td>NaN</td>\n",
              "      <td>NaN</td>\n",
              "    </tr>\n",
              "    <tr>\n",
              "      <th>75%</th>\n",
              "      <td>NaN</td>\n",
              "      <td>2.644350e+18</td>\n",
              "      <td>1.956660e+18</td>\n",
              "      <td>1.0</td>\n",
              "      <td>1.806830e+18</td>\n",
              "      <td>NaN</td>\n",
              "      <td>1.000000e+00</td>\n",
              "      <td>431.370000</td>\n",
              "      <td>1.515920e+18</td>\n",
              "      <td>NaN</td>\n",
              "      <td>NaN</td>\n",
              "      <td>NaN</td>\n",
              "      <td>NaN</td>\n",
              "    </tr>\n",
              "    <tr>\n",
              "      <th>max</th>\n",
              "      <td>NaN</td>\n",
              "      <td>2.719020e+18</td>\n",
              "      <td>2.541960e+18</td>\n",
              "      <td>1.0</td>\n",
              "      <td>1.806830e+18</td>\n",
              "      <td>NaN</td>\n",
              "      <td>1.550610e+18</td>\n",
              "      <td>34448.600000</td>\n",
              "      <td>1.554300e+18</td>\n",
              "      <td>NaN</td>\n",
              "      <td>NaN</td>\n",
              "      <td>NaN</td>\n",
              "      <td>NaN</td>\n",
              "    </tr>\n",
              "  </tbody>\n",
              "</table>\n",
              "</div>\n",
              "    <div class=\"colab-df-buttons\">\n",
              "\n",
              "  <div class=\"colab-df-container\">\n",
              "    <button class=\"colab-df-convert\" onclick=\"convertToInteractive('df-9b72e3c4-c9ab-4fbc-abc2-ef540abda925')\"\n",
              "            title=\"Convert this dataframe to an interactive table.\"\n",
              "            style=\"display:none;\">\n",
              "\n",
              "  <svg xmlns=\"http://www.w3.org/2000/svg\" height=\"24px\" viewBox=\"0 -960 960 960\">\n",
              "    <path d=\"M120-120v-720h720v720H120Zm60-500h600v-160H180v160Zm220 220h160v-160H400v160Zm0 220h160v-160H400v160ZM180-400h160v-160H180v160Zm440 0h160v-160H620v160ZM180-180h160v-160H180v160Zm440 0h160v-160H620v160Z\"/>\n",
              "  </svg>\n",
              "    </button>\n",
              "\n",
              "  <style>\n",
              "    .colab-df-container {\n",
              "      display:flex;\n",
              "      gap: 12px;\n",
              "    }\n",
              "\n",
              "    .colab-df-convert {\n",
              "      background-color: #E8F0FE;\n",
              "      border: none;\n",
              "      border-radius: 50%;\n",
              "      cursor: pointer;\n",
              "      display: none;\n",
              "      fill: #1967D2;\n",
              "      height: 32px;\n",
              "      padding: 0 0 0 0;\n",
              "      width: 32px;\n",
              "    }\n",
              "\n",
              "    .colab-df-convert:hover {\n",
              "      background-color: #E2EBFA;\n",
              "      box-shadow: 0px 1px 2px rgba(60, 64, 67, 0.3), 0px 1px 3px 1px rgba(60, 64, 67, 0.15);\n",
              "      fill: #174EA6;\n",
              "    }\n",
              "\n",
              "    .colab-df-buttons div {\n",
              "      margin-bottom: 4px;\n",
              "    }\n",
              "\n",
              "    [theme=dark] .colab-df-convert {\n",
              "      background-color: #3B4455;\n",
              "      fill: #D2E3FC;\n",
              "    }\n",
              "\n",
              "    [theme=dark] .colab-df-convert:hover {\n",
              "      background-color: #434B5C;\n",
              "      box-shadow: 0px 1px 3px 1px rgba(0, 0, 0, 0.15);\n",
              "      filter: drop-shadow(0px 1px 2px rgba(0, 0, 0, 0.3));\n",
              "      fill: #FFFFFF;\n",
              "    }\n",
              "  </style>\n",
              "\n",
              "    <script>\n",
              "      const buttonEl =\n",
              "        document.querySelector('#df-9b72e3c4-c9ab-4fbc-abc2-ef540abda925 button.colab-df-convert');\n",
              "      buttonEl.style.display =\n",
              "        google.colab.kernel.accessAllowed ? 'block' : 'none';\n",
              "\n",
              "      async function convertToInteractive(key) {\n",
              "        const element = document.querySelector('#df-9b72e3c4-c9ab-4fbc-abc2-ef540abda925');\n",
              "        const dataTable =\n",
              "          await google.colab.kernel.invokeFunction('convertToInteractive',\n",
              "                                                    [key], {});\n",
              "        if (!dataTable) return;\n",
              "\n",
              "        const docLinkHtml = 'Like what you see? Visit the ' +\n",
              "          '<a target=\"_blank\" href=https://colab.research.google.com/notebooks/data_table.ipynb>data table notebook</a>'\n",
              "          + ' to learn more about interactive tables.';\n",
              "        element.innerHTML = '';\n",
              "        dataTable['output_type'] = 'display_data';\n",
              "        await google.colab.output.renderOutput(dataTable, element);\n",
              "        const docLink = document.createElement('div');\n",
              "        docLink.innerHTML = docLinkHtml;\n",
              "        element.appendChild(docLink);\n",
              "      }\n",
              "    </script>\n",
              "  </div>\n",
              "\n",
              "\n",
              "<div id=\"df-64a04cfb-c76c-46c6-b54e-850ed9a7af44\">\n",
              "  <button class=\"colab-df-quickchart\" onclick=\"quickchart('df-64a04cfb-c76c-46c6-b54e-850ed9a7af44')\"\n",
              "            title=\"Suggest charts\"\n",
              "            style=\"display:none;\">\n",
              "\n",
              "<svg xmlns=\"http://www.w3.org/2000/svg\" height=\"24px\"viewBox=\"0 0 24 24\"\n",
              "     width=\"24px\">\n",
              "    <g>\n",
              "        <path d=\"M19 3H5c-1.1 0-2 .9-2 2v14c0 1.1.9 2 2 2h14c1.1 0 2-.9 2-2V5c0-1.1-.9-2-2-2zM9 17H7v-7h2v7zm4 0h-2V7h2v10zm4 0h-2v-4h2v4z\"/>\n",
              "    </g>\n",
              "</svg>\n",
              "  </button>\n",
              "\n",
              "<style>\n",
              "  .colab-df-quickchart {\n",
              "      --bg-color: #E8F0FE;\n",
              "      --fill-color: #1967D2;\n",
              "      --hover-bg-color: #E2EBFA;\n",
              "      --hover-fill-color: #174EA6;\n",
              "      --disabled-fill-color: #AAA;\n",
              "      --disabled-bg-color: #DDD;\n",
              "  }\n",
              "\n",
              "  [theme=dark] .colab-df-quickchart {\n",
              "      --bg-color: #3B4455;\n",
              "      --fill-color: #D2E3FC;\n",
              "      --hover-bg-color: #434B5C;\n",
              "      --hover-fill-color: #FFFFFF;\n",
              "      --disabled-bg-color: #3B4455;\n",
              "      --disabled-fill-color: #666;\n",
              "  }\n",
              "\n",
              "  .colab-df-quickchart {\n",
              "    background-color: var(--bg-color);\n",
              "    border: none;\n",
              "    border-radius: 50%;\n",
              "    cursor: pointer;\n",
              "    display: none;\n",
              "    fill: var(--fill-color);\n",
              "    height: 32px;\n",
              "    padding: 0;\n",
              "    width: 32px;\n",
              "  }\n",
              "\n",
              "  .colab-df-quickchart:hover {\n",
              "    background-color: var(--hover-bg-color);\n",
              "    box-shadow: 0 1px 2px rgba(60, 64, 67, 0.3), 0 1px 3px 1px rgba(60, 64, 67, 0.15);\n",
              "    fill: var(--button-hover-fill-color);\n",
              "  }\n",
              "\n",
              "  .colab-df-quickchart-complete:disabled,\n",
              "  .colab-df-quickchart-complete:disabled:hover {\n",
              "    background-color: var(--disabled-bg-color);\n",
              "    fill: var(--disabled-fill-color);\n",
              "    box-shadow: none;\n",
              "  }\n",
              "\n",
              "  .colab-df-spinner {\n",
              "    border: 2px solid var(--fill-color);\n",
              "    border-color: transparent;\n",
              "    border-bottom-color: var(--fill-color);\n",
              "    animation:\n",
              "      spin 1s steps(1) infinite;\n",
              "  }\n",
              "\n",
              "  @keyframes spin {\n",
              "    0% {\n",
              "      border-color: transparent;\n",
              "      border-bottom-color: var(--fill-color);\n",
              "      border-left-color: var(--fill-color);\n",
              "    }\n",
              "    20% {\n",
              "      border-color: transparent;\n",
              "      border-left-color: var(--fill-color);\n",
              "      border-top-color: var(--fill-color);\n",
              "    }\n",
              "    30% {\n",
              "      border-color: transparent;\n",
              "      border-left-color: var(--fill-color);\n",
              "      border-top-color: var(--fill-color);\n",
              "      border-right-color: var(--fill-color);\n",
              "    }\n",
              "    40% {\n",
              "      border-color: transparent;\n",
              "      border-right-color: var(--fill-color);\n",
              "      border-top-color: var(--fill-color);\n",
              "    }\n",
              "    60% {\n",
              "      border-color: transparent;\n",
              "      border-right-color: var(--fill-color);\n",
              "    }\n",
              "    80% {\n",
              "      border-color: transparent;\n",
              "      border-right-color: var(--fill-color);\n",
              "      border-bottom-color: var(--fill-color);\n",
              "    }\n",
              "    90% {\n",
              "      border-color: transparent;\n",
              "      border-bottom-color: var(--fill-color);\n",
              "    }\n",
              "  }\n",
              "</style>\n",
              "\n",
              "  <script>\n",
              "    async function quickchart(key) {\n",
              "      const quickchartButtonEl =\n",
              "        document.querySelector('#' + key + ' button');\n",
              "      quickchartButtonEl.disabled = true;  // To prevent multiple clicks.\n",
              "      quickchartButtonEl.classList.add('colab-df-spinner');\n",
              "      try {\n",
              "        const charts = await google.colab.kernel.invokeFunction(\n",
              "            'suggestCharts', [key], {});\n",
              "      } catch (error) {\n",
              "        console.error('Error during call to suggestCharts:', error);\n",
              "      }\n",
              "      quickchartButtonEl.classList.remove('colab-df-spinner');\n",
              "      quickchartButtonEl.classList.add('colab-df-quickchart-complete');\n",
              "    }\n",
              "    (() => {\n",
              "      let quickchartButtonEl =\n",
              "        document.querySelector('#df-64a04cfb-c76c-46c6-b54e-850ed9a7af44 button');\n",
              "      quickchartButtonEl.style.display =\n",
              "        google.colab.kernel.accessAllowed ? 'block' : 'none';\n",
              "    })();\n",
              "  </script>\n",
              "</div>\n",
              "\n",
              "    </div>\n",
              "  </div>\n"
            ],
            "application/vnd.google.colaboratory.intrinsic+json": {
              "type": "dataframe",
              "summary": "{\n  \"name\": \"data\",\n  \"rows\": 11,\n  \"fields\": [\n    {\n      \"column\": \"Order_datetime\",\n      \"properties\": {\n        \"dtype\": \"category\",\n        \"num_unique_values\": 4,\n        \"samples\": [\n          74505,\n          \"26\",\n          \"95911\"\n        ],\n        \"semantic_type\": \"\",\n        \"description\": \"\"\n      }\n    },\n    {\n      \"column\": \"Order_ID\",\n      \"properties\": {\n        \"dtype\": \"number\",\n        \"std\": 1.114605428500879e+18,\n        \"min\": 95911.0,\n        \"max\": 2.71902e+18,\n        \"num_unique_values\": 8,\n        \"samples\": [\n          2.4851847172899876e+18,\n          2.52428e+18,\n          95911.0\n        ],\n        \"semantic_type\": \"\",\n        \"description\": \"\"\n      }\n    },\n    {\n      \"column\": \"Product_ID\",\n      \"properties\": {\n        \"dtype\": \"number\",\n        \"std\": 8.850737975548602e+17,\n        \"min\": 95911.0,\n        \"max\": 2.54196e+18,\n        \"num_unique_values\": 7,\n        \"samples\": [\n          95911.0,\n          1.8159687084901624e+18,\n          1.95666e+18\n        ],\n        \"semantic_type\": \"\",\n        \"description\": \"\"\n      }\n    },\n    {\n      \"column\": \"SKU_Quantity\",\n      \"properties\": {\n        \"dtype\": \"number\",\n        \"std\": 33909.35620123365,\n        \"min\": 0.0,\n        \"max\": 95911.0,\n        \"num_unique_values\": 3,\n        \"samples\": [\n          95911.0,\n          1.0,\n          0.0\n        ],\n        \"semantic_type\": \"\",\n        \"description\": \"\"\n      }\n    },\n    {\n      \"column\": \"Category_ID\",\n      \"properties\": {\n        \"dtype\": \"number\",\n        \"std\": 8.115064618879517e+17,\n        \"min\": 90559.0,\n        \"max\": 1.80683e+18,\n        \"num_unique_values\": 5,\n        \"samples\": [\n          1.8059478093839373e+18,\n          1.80683e+18,\n          2.0839357897096004e+16\n        ],\n        \"semantic_type\": \"\",\n        \"description\": \"\"\n      }\n    },\n    {\n      \"column\": \"Category\",\n      \"properties\": {\n        \"dtype\": \"category\",\n        \"num_unique_values\": 4,\n        \"samples\": [\n          218,\n          \"29052\",\n          \"85978\"\n        ],\n        \"semantic_type\": \"\",\n        \"description\": \"\"\n      }\n    },\n    {\n      \"column\": \"Brand_ID\",\n      \"properties\": {\n        \"dtype\": \"number\",\n        \"std\": 5.4000824846569683e+17,\n        \"min\": 0.0,\n        \"max\": 1.55061e+18,\n        \"num_unique_values\": 6,\n        \"samples\": [\n          91126.0,\n          8.890963643746024e+16,\n          1.55061e+18\n        ],\n        \"semantic_type\": \"\",\n        \"description\": \"\"\n      }\n    },\n    {\n      \"column\": \"Price_USD\",\n      \"properties\": {\n        \"dtype\": \"number\",\n        \"std\": 32476.78424982437,\n        \"min\": 0.99,\n        \"max\": 90559.0,\n        \"num_unique_values\": 8,\n        \"samples\": [\n          362.2152174825252,\n          258.77,\n          90559.0\n        ],\n        \"semantic_type\": \"\",\n        \"description\": \"\"\n      }\n    },\n    {\n      \"column\": \"User_ID\",\n      \"properties\": {\n        \"dtype\": \"number\",\n        \"std\": 6.872999726685065e+17,\n        \"min\": 90559.0,\n        \"max\": 1.5543e+18,\n        \"num_unique_values\": 6,\n        \"samples\": [\n          90559.0,\n          1.512648133813315e+18,\n          1.5543e+18\n        ],\n        \"semantic_type\": \"\",\n        \"description\": \"\"\n      }\n    },\n    {\n      \"column\": \"Target_Gender\",\n      \"properties\": {\n        \"dtype\": \"category\",\n        \"num_unique_values\": 4,\n        \"samples\": [\n          2,\n          \"47379\",\n          \"47743\"\n        ],\n        \"semantic_type\": \"\",\n        \"description\": \"\"\n      }\n    },\n    {\n      \"column\": \"Main_Color\",\n      \"properties\": {\n        \"dtype\": \"category\",\n        \"num_unique_values\": 4,\n        \"samples\": [\n          5,\n          \"69511\",\n          \"88251\"\n        ],\n        \"semantic_type\": \"\",\n        \"description\": \"\"\n      }\n    },\n    {\n      \"column\": \"Main_Metal\",\n      \"properties\": {\n        \"dtype\": \"category\",\n        \"num_unique_values\": 4,\n        \"samples\": [\n          3,\n          \"89082\",\n          \"90449\"\n        ],\n        \"semantic_type\": \"\",\n        \"description\": \"\"\n      }\n    },\n    {\n      \"column\": \"Main_Gem\",\n      \"properties\": {\n        \"dtype\": \"category\",\n        \"num_unique_values\": 4,\n        \"samples\": [\n          30,\n          \"29610\",\n          \"61853\"\n        ],\n        \"semantic_type\": \"\",\n        \"description\": \"\"\n      }\n    }\n  ]\n}"
            }
          },
          "metadata": {},
          "execution_count": 10
        }
      ],
      "source": [
        "# Describe data\n",
        "data.describe(include=\"all\")"
      ]
    },
    {
      "cell_type": "markdown",
      "id": "ed24b3f1-68f1-4ed3-b161-8904e0a2e4b6",
      "metadata": {
        "id": "ed24b3f1-68f1-4ed3-b161-8904e0a2e4b6"
      },
      "source": [
        "##### Missing Values"
      ]
    },
    {
      "cell_type": "code",
      "execution_count": 11,
      "id": "d447fce5-6d21-48eb-95b6-de17a9e0777e",
      "metadata": {
        "id": "d447fce5-6d21-48eb-95b6-de17a9e0777e",
        "colab": {
          "base_uri": "https://localhost:8080/",
          "height": 492
        },
        "outputId": "c32eea39-cc23-4f19-ddb0-c3a5f2075294"
      },
      "outputs": [
        {
          "output_type": "execute_result",
          "data": {
            "text/plain": [
              "Order_datetime     0.000000\n",
              "Order_ID           0.000000\n",
              "Product_ID         0.000000\n",
              "SKU_Quantity       0.000000\n",
              "Category_ID        5.580173\n",
              "Category          10.356476\n",
              "Brand_ID           4.989000\n",
              "Price_USD          5.580173\n",
              "User_ID            5.580173\n",
              "Target_Gender     50.221560\n",
              "Main_Color         7.986571\n",
              "Main_Metal         5.694863\n",
              "Main_Gem          35.510004\n",
              "dtype: float64"
            ],
            "text/html": [
              "<div>\n",
              "<style scoped>\n",
              "    .dataframe tbody tr th:only-of-type {\n",
              "        vertical-align: middle;\n",
              "    }\n",
              "\n",
              "    .dataframe tbody tr th {\n",
              "        vertical-align: top;\n",
              "    }\n",
              "\n",
              "    .dataframe thead th {\n",
              "        text-align: right;\n",
              "    }\n",
              "</style>\n",
              "<table border=\"1\" class=\"dataframe\">\n",
              "  <thead>\n",
              "    <tr style=\"text-align: right;\">\n",
              "      <th></th>\n",
              "      <th>0</th>\n",
              "    </tr>\n",
              "  </thead>\n",
              "  <tbody>\n",
              "    <tr>\n",
              "      <th>Order_datetime</th>\n",
              "      <td>0.000000</td>\n",
              "    </tr>\n",
              "    <tr>\n",
              "      <th>Order_ID</th>\n",
              "      <td>0.000000</td>\n",
              "    </tr>\n",
              "    <tr>\n",
              "      <th>Product_ID</th>\n",
              "      <td>0.000000</td>\n",
              "    </tr>\n",
              "    <tr>\n",
              "      <th>SKU_Quantity</th>\n",
              "      <td>0.000000</td>\n",
              "    </tr>\n",
              "    <tr>\n",
              "      <th>Category_ID</th>\n",
              "      <td>5.580173</td>\n",
              "    </tr>\n",
              "    <tr>\n",
              "      <th>Category</th>\n",
              "      <td>10.356476</td>\n",
              "    </tr>\n",
              "    <tr>\n",
              "      <th>Brand_ID</th>\n",
              "      <td>4.989000</td>\n",
              "    </tr>\n",
              "    <tr>\n",
              "      <th>Price_USD</th>\n",
              "      <td>5.580173</td>\n",
              "    </tr>\n",
              "    <tr>\n",
              "      <th>User_ID</th>\n",
              "      <td>5.580173</td>\n",
              "    </tr>\n",
              "    <tr>\n",
              "      <th>Target_Gender</th>\n",
              "      <td>50.221560</td>\n",
              "    </tr>\n",
              "    <tr>\n",
              "      <th>Main_Color</th>\n",
              "      <td>7.986571</td>\n",
              "    </tr>\n",
              "    <tr>\n",
              "      <th>Main_Metal</th>\n",
              "      <td>5.694863</td>\n",
              "    </tr>\n",
              "    <tr>\n",
              "      <th>Main_Gem</th>\n",
              "      <td>35.510004</td>\n",
              "    </tr>\n",
              "  </tbody>\n",
              "</table>\n",
              "</div><br><label><b>dtype:</b> float64</label>"
            ]
          },
          "metadata": {},
          "execution_count": 11
        }
      ],
      "source": [
        "# Check for missing values\n",
        "100 * data.isnull().sum() / len(data)"
      ]
    },
    {
      "cell_type": "code",
      "execution_count": 12,
      "id": "0d9c8798-8fb9-4be5-93bf-3e83deedeada",
      "metadata": {
        "id": "0d9c8798-8fb9-4be5-93bf-3e83deedeada",
        "colab": {
          "base_uri": "https://localhost:8080/"
        },
        "outputId": "23552867-5868-4001-c561-051d2885d3b5"
      },
      "outputs": [
        {
          "output_type": "stream",
          "name": "stdout",
          "text": [
            "(95911, 13)\n"
          ]
        }
      ],
      "source": [
        "print(data.shape)"
      ]
    },
    {
      "cell_type": "markdown",
      "id": "0b85f9ca-e58e-42c8-9f96-5c4ad95f2e02",
      "metadata": {
        "id": "0b85f9ca-e58e-42c8-9f96-5c4ad95f2e02"
      },
      "source": [
        "##### Low cardinality"
      ]
    },
    {
      "cell_type": "code",
      "execution_count": 13,
      "id": "ec0dc6a5-dd55-4512-b689-c079134a5709",
      "metadata": {
        "id": "ec0dc6a5-dd55-4512-b689-c079134a5709",
        "colab": {
          "base_uri": "https://localhost:8080/",
          "height": 492
        },
        "outputId": "d0a5ba72-809d-4ec3-b363-0a7dfd572b4f"
      },
      "outputs": [
        {
          "output_type": "execute_result",
          "data": {
            "text/plain": [
              "Order_datetime    74505\n",
              "Order_ID          32910\n",
              "Product_ID         1706\n",
              "SKU_Quantity          1\n",
              "Category_ID           2\n",
              "Category            218\n",
              "Brand_ID             37\n",
              "Price_USD          3166\n",
              "User_ID             396\n",
              "Target_Gender         2\n",
              "Main_Color            5\n",
              "Main_Metal            3\n",
              "Main_Gem             30\n",
              "dtype: int64"
            ],
            "text/html": [
              "<div>\n",
              "<style scoped>\n",
              "    .dataframe tbody tr th:only-of-type {\n",
              "        vertical-align: middle;\n",
              "    }\n",
              "\n",
              "    .dataframe tbody tr th {\n",
              "        vertical-align: top;\n",
              "    }\n",
              "\n",
              "    .dataframe thead th {\n",
              "        text-align: right;\n",
              "    }\n",
              "</style>\n",
              "<table border=\"1\" class=\"dataframe\">\n",
              "  <thead>\n",
              "    <tr style=\"text-align: right;\">\n",
              "      <th></th>\n",
              "      <th>0</th>\n",
              "    </tr>\n",
              "  </thead>\n",
              "  <tbody>\n",
              "    <tr>\n",
              "      <th>Order_datetime</th>\n",
              "      <td>74505</td>\n",
              "    </tr>\n",
              "    <tr>\n",
              "      <th>Order_ID</th>\n",
              "      <td>32910</td>\n",
              "    </tr>\n",
              "    <tr>\n",
              "      <th>Product_ID</th>\n",
              "      <td>1706</td>\n",
              "    </tr>\n",
              "    <tr>\n",
              "      <th>SKU_Quantity</th>\n",
              "      <td>1</td>\n",
              "    </tr>\n",
              "    <tr>\n",
              "      <th>Category_ID</th>\n",
              "      <td>2</td>\n",
              "    </tr>\n",
              "    <tr>\n",
              "      <th>Category</th>\n",
              "      <td>218</td>\n",
              "    </tr>\n",
              "    <tr>\n",
              "      <th>Brand_ID</th>\n",
              "      <td>37</td>\n",
              "    </tr>\n",
              "    <tr>\n",
              "      <th>Price_USD</th>\n",
              "      <td>3166</td>\n",
              "    </tr>\n",
              "    <tr>\n",
              "      <th>User_ID</th>\n",
              "      <td>396</td>\n",
              "    </tr>\n",
              "    <tr>\n",
              "      <th>Target_Gender</th>\n",
              "      <td>2</td>\n",
              "    </tr>\n",
              "    <tr>\n",
              "      <th>Main_Color</th>\n",
              "      <td>5</td>\n",
              "    </tr>\n",
              "    <tr>\n",
              "      <th>Main_Metal</th>\n",
              "      <td>3</td>\n",
              "    </tr>\n",
              "    <tr>\n",
              "      <th>Main_Gem</th>\n",
              "      <td>30</td>\n",
              "    </tr>\n",
              "  </tbody>\n",
              "</table>\n",
              "</div><br><label><b>dtype:</b> int64</label>"
            ]
          },
          "metadata": {},
          "execution_count": 13
        }
      ],
      "source": [
        "# Number of unique values per feature\n",
        "data.nunique()"
      ]
    },
    {
      "cell_type": "markdown",
      "id": "70c7c09e-2383-45a2-a8b6-512af0463f9c",
      "metadata": {
        "id": "70c7c09e-2383-45a2-a8b6-512af0463f9c"
      },
      "source": [
        "Apart from the target variable, which is the jewelry price, all other variables may be considered categorical in nature. Also, the _SKU_Quantity_ feature has just one unique value, giving it a variance of 0. As such, it conferrs no new informative property on the dataset."
      ]
    },
    {
      "cell_type": "markdown",
      "id": "98e96638-b4c7-4ecf-a103-a753d2d1df1b",
      "metadata": {
        "id": "98e96638-b4c7-4ecf-a103-a753d2d1df1b"
      },
      "source": [
        "##### Duplicate records\n",
        "\n",
        "We eliminate duplicated rows."
      ]
    },
    {
      "cell_type": "code",
      "execution_count": 14,
      "id": "a7080318-d9dc-42bc-9513-01feb54b844c",
      "metadata": {
        "id": "a7080318-d9dc-42bc-9513-01feb54b844c"
      },
      "outputs": [],
      "source": [
        "# Get the duplicated records\n",
        "num_duplicated = len(data.loc[data.duplicated()])"
      ]
    },
    {
      "cell_type": "code",
      "execution_count": 15,
      "id": "06eb66c6-e47a-44ed-9595-545767427469",
      "metadata": {
        "id": "06eb66c6-e47a-44ed-9595-545767427469",
        "colab": {
          "base_uri": "https://localhost:8080/"
        },
        "outputId": "85613f07-ac2a-4631-d15b-8151c76431ab"
      },
      "outputs": [
        {
          "output_type": "stream",
          "name": "stdout",
          "text": [
            "Number of duplicated records: 2955.\n"
          ]
        }
      ],
      "source": [
        "print(f\"Number of duplicated records: {num_duplicated}.\")"
      ]
    },
    {
      "cell_type": "code",
      "execution_count": 16,
      "id": "e3bcc0a5-f03c-4087-8d88-2db5db084a67",
      "metadata": {
        "id": "e3bcc0a5-f03c-4087-8d88-2db5db084a67"
      },
      "outputs": [],
      "source": [
        "# Filter away the duplicated records\n",
        "data = data.loc[~data.duplicated()]"
      ]
    },
    {
      "cell_type": "markdown",
      "id": "2b8f2e2e-6ded-4b4b-a019-32cc56d79f0f",
      "metadata": {
        "id": "2b8f2e2e-6ded-4b4b-a019-32cc56d79f0f"
      },
      "source": [
        "#### Converting date"
      ]
    },
    {
      "cell_type": "code",
      "execution_count": 17,
      "id": "6d6fe329-763d-40a3-98ff-c46e24408a63",
      "metadata": {
        "id": "6d6fe329-763d-40a3-98ff-c46e24408a63"
      },
      "outputs": [],
      "source": [
        "# Convert 'Order_datetime' to datetime format\n",
        "data[\"Order_datetime\"] = pd.to_datetime(data[\"Order_datetime\"], utc=True)\n",
        "\n",
        "# Extract useful time-based features\n",
        "data[\"Order_Date\"] = data[\"Order_datetime\"].dt.date  # Extract date (YYYY-MM-DD)\n",
        "data[\"Year\"] = data[\"Order_datetime\"].dt.year\n",
        "data[\"Month\"] = data[\"Order_datetime\"].dt.month"
      ]
    },
    {
      "cell_type": "code",
      "execution_count": 18,
      "id": "3d418434-54bb-4935-b38c-027daf4cd7b5",
      "metadata": {
        "id": "3d418434-54bb-4935-b38c-027daf4cd7b5",
        "colab": {
          "base_uri": "https://localhost:8080/"
        },
        "outputId": "be0be0ed-349c-4f4b-e0ca-bdcf8eb6af8c"
      },
      "outputs": [
        {
          "output_type": "stream",
          "name": "stdout",
          "text": [
            "             Order_datetime      Order_ID    Product_ID  SKU_Quantity  \\\n",
            "0 2018-12-01 11:40:29+00:00  1.924720e+18  1.842200e+18             1   \n",
            "1 2018-12-01 17:38:31+00:00  1.924900e+18  1.806830e+18             1   \n",
            "2 2018-12-02 13:53:42+00:00  1.925510e+18  1.842210e+18             1   \n",
            "3 2018-12-02 17:44:02+00:00  1.925630e+18  1.835570e+18             1   \n",
            "4 2018-12-02 21:30:19+00:00  1.925740e+18  1.873940e+18             1   \n",
            "\n",
            "    Category_ID          Category  Brand_ID  Price_USD       User_ID  \\\n",
            "0  1.806830e+18   jewelry.earring       0.0     561.51  1.515920e+18   \n",
            "1  1.806830e+18               NaN       NaN     212.14  1.515920e+18   \n",
            "2  1.806830e+18   jewelry.pendant       1.0      54.66  1.515920e+18   \n",
            "3  1.806830e+18   jewelry.pendant       0.0      88.90  1.515920e+18   \n",
            "4  1.806830e+18  jewelry.necklace       0.0     417.67  1.515920e+18   \n",
            "\n",
            "  Target_Gender Main_Color Main_Metal  Main_Gem  Order_Date  Year  Month  \n",
            "0           NaN        red       gold   diamond  2018-12-01  2018     12  \n",
            "1           NaN     yellow       gold       NaN  2018-12-01  2018     12  \n",
            "2             f      white       gold  sapphire  2018-12-02  2018     12  \n",
            "3             f        red       gold   diamond  2018-12-02  2018     12  \n",
            "4           NaN        red       gold  amethyst  2018-12-02  2018     12  \n"
          ]
        }
      ],
      "source": [
        "# Display the updated dataframe\n",
        "print(data.head())# Display the updated dataframe\n"
      ]
    },
    {
      "cell_type": "code",
      "execution_count": 19,
      "id": "1320dcd5-5a14-4bc9-9387-4608cfcc16f4",
      "metadata": {
        "id": "1320dcd5-5a14-4bc9-9387-4608cfcc16f4",
        "colab": {
          "base_uri": "https://localhost:8080/"
        },
        "outputId": "182f4437-e0c3-4d9f-935b-6e294b6a6278"
      },
      "outputs": [
        {
          "output_type": "stream",
          "name": "stdout",
          "text": [
            "<class 'pandas.core.frame.DataFrame'>\n",
            "Index: 92956 entries, 0 to 95910\n",
            "Data columns (total 16 columns):\n",
            " #   Column          Non-Null Count  Dtype              \n",
            "---  ------          --------------  -----              \n",
            " 0   Order_datetime  92956 non-null  datetime64[ns, UTC]\n",
            " 1   Order_ID        92956 non-null  float64            \n",
            " 2   Product_ID      92956 non-null  float64            \n",
            " 3   SKU_Quantity    92956 non-null  int64              \n",
            " 4   Category_ID     88015 non-null  float64            \n",
            " 5   Category        83119 non-null  object             \n",
            " 6   Brand_ID        88281 non-null  float64            \n",
            " 7   Price_USD       88015 non-null  float64            \n",
            " 8   User_ID         88015 non-null  float64            \n",
            " 9   Target_Gender   47015 non-null  object             \n",
            " 10  Main_Color      85982 non-null  object             \n",
            " 11  Main_Metal      87908 non-null  object             \n",
            " 12  Main_Gem        60831 non-null  object             \n",
            " 13  Order_Date      92956 non-null  object             \n",
            " 14  Year            92956 non-null  int32              \n",
            " 15  Month           92956 non-null  int32              \n",
            "dtypes: datetime64[ns, UTC](1), float64(6), int32(2), int64(1), object(6)\n",
            "memory usage: 11.3+ MB\n"
          ]
        }
      ],
      "source": [
        "data.info()"
      ]
    },
    {
      "cell_type": "code",
      "execution_count": 19,
      "id": "34c53a30-2c9f-4e81-9e1b-566ddf0f5c1d",
      "metadata": {
        "id": "34c53a30-2c9f-4e81-9e1b-566ddf0f5c1d"
      },
      "outputs": [],
      "source": []
    },
    {
      "cell_type": "code",
      "execution_count": 19,
      "id": "b2cbbfd6-e1c3-43d7-ad6c-60f64093f0e7",
      "metadata": {
        "id": "b2cbbfd6-e1c3-43d7-ad6c-60f64093f0e7"
      },
      "outputs": [],
      "source": []
    },
    {
      "cell_type": "markdown",
      "id": "5a02e033-621e-460e-9173-3b3537f584d1",
      "metadata": {
        "id": "5a02e033-621e-460e-9173-3b3537f584d1"
      },
      "source": [
        "##### Target Distribution"
      ]
    },
    {
      "cell_type": "code",
      "execution_count": 20,
      "id": "69e5c37a-6fbf-4c92-92db-73da5727fc83",
      "metadata": {
        "id": "69e5c37a-6fbf-4c92-92db-73da5727fc83",
        "colab": {
          "base_uri": "https://localhost:8080/",
          "height": 501
        },
        "outputId": "1390d84b-7a93-42a8-8599-506084ed01a3"
      },
      "outputs": [
        {
          "output_type": "display_data",
          "data": {
            "text/plain": [
              "<Figure size 1500x500 with 1 Axes>"
            ],
            "image/png": "[encoded data removed]"
          },
          "metadata": {}
        }
      ],
      "source": [
        "# Bar chart\n",
        "plt.figure(figsize = (15, 5))\n",
        "sns.kdeplot(data = data, x = \"Price_USD\")\n",
        "plt.xlabel(\"Jewellery Price\")\n",
        "plt.ylabel(\"Label Frequency\")\n",
        "\n",
        "plt.tight_layout()\n",
        "plt.show()"
      ]
    },
    {
      "cell_type": "markdown",
      "id": "3a06979f-b200-419d-8e06-d982f055ae30",
      "metadata": {
        "id": "3a06979f-b200-419d-8e06-d982f055ae30"
      },
      "source": [
        "The jewelry prices, which are the target labels, are right-skewed i.e., most outliers exist on the high end. This may imply that most jewelry pieces are sold to  more regular, mainstream buyers, while high-value sales are rarely conducted."
      ]
    },
    {
      "cell_type": "markdown",
      "id": "1d647eea-8a32-4689-aa6a-7463e4d85ae2",
      "metadata": {
        "id": "1d647eea-8a32-4689-aa6a-7463e4d85ae2"
      },
      "source": [
        "##### Target Gender Analysis\n",
        "\n",
        "According to social norms, females are more likely to be interested in jewelry than their male counterparts [[PAPER](https://www.jcreview.com/admin/Uploads/Files/61ded785882d06.51262907.pdf)], and this skew can be very extreme. It can be interesting to see how this might reflect in this dataset."
      ]
    },
    {
      "cell_type": "code",
      "execution_count": 21,
      "id": "37c8382f-edc6-4c29-ba2b-02a497887b1f",
      "metadata": {
        "id": "37c8382f-edc6-4c29-ba2b-02a497887b1f",
        "colab": {
          "base_uri": "https://localhost:8080/",
          "height": 178
        },
        "outputId": "e038e14c-93d1-4d32-9475-e3534ad42f92"
      },
      "outputs": [
        {
          "output_type": "execute_result",
          "data": {
            "text/plain": [
              "Target_Gender\n",
              "f    46656\n",
              "m      359\n",
              "Name: count, dtype: int64"
            ],
            "text/html": [
              "<div>\n",
              "<style scoped>\n",
              "    .dataframe tbody tr th:only-of-type {\n",
              "        vertical-align: middle;\n",
              "    }\n",
              "\n",
              "    .dataframe tbody tr th {\n",
              "        vertical-align: top;\n",
              "    }\n",
              "\n",
              "    .dataframe thead th {\n",
              "        text-align: right;\n",
              "    }\n",
              "</style>\n",
              "<table border=\"1\" class=\"dataframe\">\n",
              "  <thead>\n",
              "    <tr style=\"text-align: right;\">\n",
              "      <th></th>\n",
              "      <th>count</th>\n",
              "    </tr>\n",
              "    <tr>\n",
              "      <th>Target_Gender</th>\n",
              "      <th></th>\n",
              "    </tr>\n",
              "  </thead>\n",
              "  <tbody>\n",
              "    <tr>\n",
              "      <th>f</th>\n",
              "      <td>46656</td>\n",
              "    </tr>\n",
              "    <tr>\n",
              "      <th>m</th>\n",
              "      <td>359</td>\n",
              "    </tr>\n",
              "  </tbody>\n",
              "</table>\n",
              "</div><br><label><b>dtype:</b> int64</label>"
            ]
          },
          "metadata": {},
          "execution_count": 21
        }
      ],
      "source": [
        "# Jewelry target gender distribution\n",
        "data[\"Target_Gender\"].value_counts()"
      ]
    },
    {
      "cell_type": "code",
      "execution_count": 22,
      "id": "9275ce0f",
      "metadata": {
        "id": "9275ce0f",
        "colab": {
          "base_uri": "https://localhost:8080/",
          "height": 178
        },
        "outputId": "5055ed80-6656-4c0c-a4b7-f6d21ac55d5e"
      },
      "outputs": [
        {
          "output_type": "execute_result",
          "data": {
            "text/plain": [
              "Target_Gender\n",
              "f    99.236414\n",
              "m     0.763586\n",
              "Name: proportion, dtype: float64"
            ],
            "text/html": [
              "<div>\n",
              "<style scoped>\n",
              "    .dataframe tbody tr th:only-of-type {\n",
              "        vertical-align: middle;\n",
              "    }\n",
              "\n",
              "    .dataframe tbody tr th {\n",
              "        vertical-align: top;\n",
              "    }\n",
              "\n",
              "    .dataframe thead th {\n",
              "        text-align: right;\n",
              "    }\n",
              "</style>\n",
              "<table border=\"1\" class=\"dataframe\">\n",
              "  <thead>\n",
              "    <tr style=\"text-align: right;\">\n",
              "      <th></th>\n",
              "      <th>proportion</th>\n",
              "    </tr>\n",
              "    <tr>\n",
              "      <th>Target_Gender</th>\n",
              "      <th></th>\n",
              "    </tr>\n",
              "  </thead>\n",
              "  <tbody>\n",
              "    <tr>\n",
              "      <th>f</th>\n",
              "      <td>99.236414</td>\n",
              "    </tr>\n",
              "    <tr>\n",
              "      <th>m</th>\n",
              "      <td>0.763586</td>\n",
              "    </tr>\n",
              "  </tbody>\n",
              "</table>\n",
              "</div><br><label><b>dtype:</b> float64</label>"
            ]
          },
          "metadata": {},
          "execution_count": 22
        }
      ],
      "source": [
        "# Jewelry target gender distribution\n",
        "data[\"Target_Gender\"].value_counts(normalize = True) * 100"
      ]
    },
    {
      "cell_type": "code",
      "execution_count": 23,
      "id": "37db51c7-a80e-439c-b8ce-8309f701eb33",
      "metadata": {
        "id": "37db51c7-a80e-439c-b8ce-8309f701eb33",
        "colab": {
          "base_uri": "https://localhost:8080/",
          "height": 791
        },
        "outputId": "e1d30c9d-4a78-48b7-ba29-14496541154d"
      },
      "outputs": [
        {
          "output_type": "display_data",
          "data": {
            "text/plain": [
              "<Figure size 1200x800 with 1 Axes>"
            ],
            "image/png": "[encoded data removed]"
          },
          "metadata": {}
        }
      ],
      "source": [
        "# Visualize jewelry distribution by gender\n",
        "plt.figure(figsize = (12, 8))\n",
        "\n",
        "sns.countplot(data=data, x = \"Target_Gender\", width = 0.3)\n",
        "plt.title(\"Distribution of jewelry based on target gender\", fontsize=25, pad=20)\n",
        "\n",
        "plt.xlabel(\"Target Gender\", fontsize=20, labelpad=20)\n",
        "plt.ylabel(\"Jewelry sample size\", fontsize=20, labelpad=20)\n",
        "\n",
        "plt.xticks([0, 1], ['FEMALE', 'MALE'])\n",
        "\n",
        "plt.show(); plt.close(\"all\")"
      ]
    },
    {
      "cell_type": "markdown",
      "id": "d25e17a2-61d3-4fa0-927d-285c458357d7",
      "metadata": {
        "id": "d25e17a2-61d3-4fa0-927d-285c458357d7"
      },
      "source": [
        "Based on the short univariate analysis above, we can conclude that a majority of jewelry pieces are specifically targeted toward women. This would probably be a result of market analysis.\n",
        "\n",
        "We can thus assume that the __male__ value in the __Target_Gender__ column is a rare one. This leaves us with one of two options:\n",
        "\n",
        "1. Retain the column or\n",
        "2. Eliminate the column, as it does not give us much diversity within gender.\n",
        "\n",
        "Since this state of affairs is an actual representation of the real-world distribution and how the genders interact with jewelry, the final decision we will make here will be to retain the column."
      ]
    },
    {
      "cell_type": "markdown",
      "id": "7a80800a-0b6e-4520-8110-68cb11f054ba",
      "metadata": {
        "id": "7a80800a-0b6e-4520-8110-68cb11f054ba"
      },
      "source": [
        "##### Jewelry Category Analysis\n",
        "\n",
        "It would make some sense to observe the different jewelry categories on sale."
      ]
    },
    {
      "cell_type": "code",
      "execution_count": 24,
      "id": "6eb93ff4-212d-46ba-8f0b-17024a267029",
      "metadata": {
        "id": "6eb93ff4-212d-46ba-8f0b-17024a267029",
        "colab": {
          "base_uri": "https://localhost:8080/",
          "height": 490
        },
        "outputId": "47e8aeb5-9c84-4232-ebaf-55b830d44934"
      },
      "outputs": [
        {
          "output_type": "execute_result",
          "data": {
            "text/plain": [
              "Category\n",
              "jewelry.earring     29021\n",
              "jewelry.ring        26012\n",
              "jewelry.pendant     13062\n",
              "jewelry.bracelet     6121\n",
              "0                    4020\n",
              "                    ...  \n",
              "626.58                  1\n",
              "13.42                   1\n",
              "2.88                    1\n",
              "101.23                  1\n",
              "253.77                  1\n",
              "Name: count, Length: 218, dtype: int64"
            ],
            "text/html": [
              "<div>\n",
              "<style scoped>\n",
              "    .dataframe tbody tr th:only-of-type {\n",
              "        vertical-align: middle;\n",
              "    }\n",
              "\n",
              "    .dataframe tbody tr th {\n",
              "        vertical-align: top;\n",
              "    }\n",
              "\n",
              "    .dataframe thead th {\n",
              "        text-align: right;\n",
              "    }\n",
              "</style>\n",
              "<table border=\"1\" class=\"dataframe\">\n",
              "  <thead>\n",
              "    <tr style=\"text-align: right;\">\n",
              "      <th></th>\n",
              "      <th>count</th>\n",
              "    </tr>\n",
              "    <tr>\n",
              "      <th>Category</th>\n",
              "      <th></th>\n",
              "    </tr>\n",
              "  </thead>\n",
              "  <tbody>\n",
              "    <tr>\n",
              "      <th>jewelry.earring</th>\n",
              "      <td>29021</td>\n",
              "    </tr>\n",
              "    <tr>\n",
              "      <th>jewelry.ring</th>\n",
              "      <td>26012</td>\n",
              "    </tr>\n",
              "    <tr>\n",
              "      <th>jewelry.pendant</th>\n",
              "      <td>13062</td>\n",
              "    </tr>\n",
              "    <tr>\n",
              "      <th>jewelry.bracelet</th>\n",
              "      <td>6121</td>\n",
              "    </tr>\n",
              "    <tr>\n",
              "      <th>0</th>\n",
              "      <td>4020</td>\n",
              "    </tr>\n",
              "    <tr>\n",
              "      <th>...</th>\n",
              "      <td>...</td>\n",
              "    </tr>\n",
              "    <tr>\n",
              "      <th>626.58</th>\n",
              "      <td>1</td>\n",
              "    </tr>\n",
              "    <tr>\n",
              "      <th>13.42</th>\n",
              "      <td>1</td>\n",
              "    </tr>\n",
              "    <tr>\n",
              "      <th>2.88</th>\n",
              "      <td>1</td>\n",
              "    </tr>\n",
              "    <tr>\n",
              "      <th>101.23</th>\n",
              "      <td>1</td>\n",
              "    </tr>\n",
              "    <tr>\n",
              "      <th>253.77</th>\n",
              "      <td>1</td>\n",
              "    </tr>\n",
              "  </tbody>\n",
              "</table>\n",
              "<p>218 rows × 1 columns</p>\n",
              "</div><br><label><b>dtype:</b> int64</label>"
            ]
          },
          "metadata": {},
          "execution_count": 24
        }
      ],
      "source": [
        "# Jewelry category distribution\n",
        "data[\"Category\"].value_counts()"
      ]
    },
    {
      "cell_type": "code",
      "execution_count": 25,
      "id": "c05d042b-5074-4a1a-83f3-1a82981d9019",
      "metadata": {
        "id": "c05d042b-5074-4a1a-83f3-1a82981d9019",
        "colab": {
          "base_uri": "https://localhost:8080/",
          "height": 429
        },
        "outputId": "738a59fd-e5d2-4047-cac1-a726923ec4ca"
      },
      "outputs": [
        {
          "output_type": "execute_result",
          "data": {
            "text/plain": [
              "Category\n",
              "jewelry.earring       29021\n",
              "jewelry.ring          26012\n",
              "jewelry.pendant       13062\n",
              "jewelry.bracelet       6121\n",
              "0                      4020\n",
              "jewelry.necklace       2330\n",
              "jewelry.brooch         1285\n",
              "jewelry.souvenir        170\n",
              "electronics.clocks      165\n",
              "40.82                    54\n",
              "Name: count, dtype: int64"
            ],
            "text/html": [
              "<div>\n",
              "<style scoped>\n",
              "    .dataframe tbody tr th:only-of-type {\n",
              "        vertical-align: middle;\n",
              "    }\n",
              "\n",
              "    .dataframe tbody tr th {\n",
              "        vertical-align: top;\n",
              "    }\n",
              "\n",
              "    .dataframe thead th {\n",
              "        text-align: right;\n",
              "    }\n",
              "</style>\n",
              "<table border=\"1\" class=\"dataframe\">\n",
              "  <thead>\n",
              "    <tr style=\"text-align: right;\">\n",
              "      <th></th>\n",
              "      <th>count</th>\n",
              "    </tr>\n",
              "    <tr>\n",
              "      <th>Category</th>\n",
              "      <th></th>\n",
              "    </tr>\n",
              "  </thead>\n",
              "  <tbody>\n",
              "    <tr>\n",
              "      <th>jewelry.earring</th>\n",
              "      <td>29021</td>\n",
              "    </tr>\n",
              "    <tr>\n",
              "      <th>jewelry.ring</th>\n",
              "      <td>26012</td>\n",
              "    </tr>\n",
              "    <tr>\n",
              "      <th>jewelry.pendant</th>\n",
              "      <td>13062</td>\n",
              "    </tr>\n",
              "    <tr>\n",
              "      <th>jewelry.bracelet</th>\n",
              "      <td>6121</td>\n",
              "    </tr>\n",
              "    <tr>\n",
              "      <th>0</th>\n",
              "      <td>4020</td>\n",
              "    </tr>\n",
              "    <tr>\n",
              "      <th>jewelry.necklace</th>\n",
              "      <td>2330</td>\n",
              "    </tr>\n",
              "    <tr>\n",
              "      <th>jewelry.brooch</th>\n",
              "      <td>1285</td>\n",
              "    </tr>\n",
              "    <tr>\n",
              "      <th>jewelry.souvenir</th>\n",
              "      <td>170</td>\n",
              "    </tr>\n",
              "    <tr>\n",
              "      <th>electronics.clocks</th>\n",
              "      <td>165</td>\n",
              "    </tr>\n",
              "    <tr>\n",
              "      <th>40.82</th>\n",
              "      <td>54</td>\n",
              "    </tr>\n",
              "  </tbody>\n",
              "</table>\n",
              "</div><br><label><b>dtype:</b> int64</label>"
            ]
          },
          "metadata": {},
          "execution_count": 25
        }
      ],
      "source": [
        "# Top 10 categories by sample size\n",
        "data[\"Category\"].value_counts()[:10]"
      ]
    },
    {
      "cell_type": "code",
      "execution_count": 26,
      "id": "a80612c0-8e17-48bb-8600-27edfe2bb1d0",
      "metadata": {
        "id": "a80612c0-8e17-48bb-8600-27edfe2bb1d0",
        "colab": {
          "base_uri": "https://localhost:8080/"
        },
        "outputId": "c68c7c16-f12e-40f4-a618-c562d20c279a"
      },
      "outputs": [
        {
          "output_type": "execute_result",
          "data": {
            "text/plain": [
              "array(['jewelry.earring', nan, 'jewelry.pendant', 'jewelry.necklace',\n",
              "       'jewelry.ring', 'jewelry.brooch', 'jewelry.bracelet',\n",
              "       'electronics.clocks', 'jewelry.souvenir', '230.12', '202.36',\n",
              "       '1098.03', '321.78', '1128.62', '81.27', '34.25', '582.16',\n",
              "       '227.37', '234.22', '150.55', '131.82', '2123.15', '109.45',\n",
              "       '49.22', '472.47', '205.38', '2746.44', '51.08', '231.12', '76.97',\n",
              "       '3054.73', '184.9', '380.1', '357.49', '15.47', '135.33', '719.75',\n",
              "       '93.01', '177.95', 'jewelry.stud', '102.1', '595.75', '469.56',\n",
              "       '427.07', '53.62', '77.53', '1469.18', '355.27', '184.89',\n",
              "       '154.66', '300.58', '83.73', '271.19', '3294.21', '278.04',\n",
              "       '3626.26', '126.03', '283.52', '114.38', '89.04', '8.22', '124.88',\n",
              "       '89.73', '171.23', '136.93', '19.04', '158.77', '187.1', '151.92',\n",
              "       '1845.89', '87.23', '248.58', '596.48', '208.88', '193.11',\n",
              "       '169.84', '1447.68', '45.07', '136.85', '282.05', '61.51',\n",
              "       '210.21', '137.12', '147.81', '419.45', '825.27', '300.16',\n",
              "       '541.78', '308.74', '766.85', '410.82', '101.23', '2.88',\n",
              "       '1356.16', '13.42', '35.21', '134.79', '626.58', '13.7', '108.53',\n",
              "       '119.01', '7.4', '4.79', '153.97', '482.47', '427.36', '289.18',\n",
              "       '25.48', '1858.49', '21.7', '11.77', '198.89', '17.51', '574.66',\n",
              "       '1319.93', '393.05', '358.22', '2282.19', '114.93', '371.23',\n",
              "       '63.56', '88.77', '133.7', '117.81', '166.03', '130.41', '195.75',\n",
              "       '104.79', '228.59', '1686.93', '65.89', '242.19', '252.47',\n",
              "       '210.41', '363.42', '149.04', '157.95', '176.3', '160.96', '316.3',\n",
              "       '258.77', '268.36', '838.9', '250.96', '832.01', '312.33',\n",
              "       '318.71', '323.6', '205.34', '608.22', '343.84', '598.22',\n",
              "       '508.08', '245.67', '338.36', '75.21', '573.81', '691.51',\n",
              "       '476.68', '247.68', '286.71', '863.67', '236.58', '644.66',\n",
              "       '40.82', '1376.99', '1.23', '621.23', '3454.79', '65.62', '59.73',\n",
              "       '571.3', '70.96', '271.26', '958.84', '527.26', '271.16', '284.66',\n",
              "       '261.64', '493.01', '35.48', '446.16', '526.41', '2517.08',\n",
              "       '331.51', '312.88', '148.63', '451.21', '369.82', '537.4',\n",
              "       '231.51', '316.34', '451.1', '283.49', '787.67', '131.92',\n",
              "       '495.48', '5.48', '186.03', '484.49', '331.23', '133.85', '323.7',\n",
              "       '2635.07', '297.22', '0', '259.58', '108.33', '4876.49', '308.08',\n",
              "       '190.27', '916.44', '132.53', '1829.37', '2208.9', '75.76',\n",
              "       '278.01', '662.3', '253.77'], dtype=object)"
            ]
          },
          "metadata": {},
          "execution_count": 26
        }
      ],
      "source": [
        "data[\"Category\"].unique()"
      ]
    },
    {
      "cell_type": "markdown",
      "id": "180b81df-f62d-4cb5-b4da-67270996fbaa",
      "metadata": {
        "id": "180b81df-f62d-4cb5-b4da-67270996fbaa"
      },
      "source": [
        "From the short analysis done above, it can be seen that a portion of the data has been corrupted. Rather than containing the accurate jewelry categories, some records contain stringified numerical values instead. This may be due to a number of possible issues such as:\n",
        "\n",
        "1. Corrupted data recording process\n",
        "2. Lack of accurate data dictionary (these numerical values may encode some information about other jewelry categories)\n",
        "\n",
        "Also, it was observed that some records did not describe jewelry, they described electronic clocks instead. These records will have to be filtered out. We can also see that the only jewelry item that seems to be targeted towards the men are _rings_."
      ]
    },
    {
      "cell_type": "markdown",
      "id": "d8b6fda5-3fb9-4fe0-b68e-4b0d36fded68",
      "metadata": {
        "id": "d8b6fda5-3fb9-4fe0-b68e-4b0d36fded68"
      },
      "source": [
        "We can extract the actual jewelry categories of interest."
      ]
    },
    {
      "cell_type": "code",
      "execution_count": 27,
      "id": "1b87d4d5-214b-44a5-a0a1-98667c04ee5f",
      "metadata": {
        "id": "1b87d4d5-214b-44a5-a0a1-98667c04ee5f"
      },
      "outputs": [],
      "source": [
        "# Exctract real jewelry categories\n",
        "categories = data[\"Category\"].unique().tolist()\n",
        "categories = [c for c in categories if isinstance(c, str) and c.__contains__(\"jewelry\")]"
      ]
    },
    {
      "cell_type": "code",
      "execution_count": 28,
      "id": "5ffdf6cd-c549-4d89-89d1-e59cbc205984",
      "metadata": {
        "id": "5ffdf6cd-c549-4d89-89d1-e59cbc205984",
        "colab": {
          "base_uri": "https://localhost:8080/"
        },
        "outputId": "04a69e5d-b69b-41a8-daae-1139d39ff289"
      },
      "outputs": [
        {
          "output_type": "execute_result",
          "data": {
            "text/plain": [
              "['jewelry.earring',\n",
              " 'jewelry.pendant',\n",
              " 'jewelry.necklace',\n",
              " 'jewelry.ring',\n",
              " 'jewelry.brooch',\n",
              " 'jewelry.bracelet',\n",
              " 'jewelry.souvenir',\n",
              " 'jewelry.stud']"
            ]
          },
          "metadata": {},
          "execution_count": 28
        }
      ],
      "source": [
        "categories"
      ]
    },
    {
      "cell_type": "code",
      "execution_count": 29,
      "id": "03dd951e-cb30-4f60-b285-056bb5e158b3",
      "metadata": {
        "id": "03dd951e-cb30-4f60-b285-056bb5e158b3"
      },
      "outputs": [],
      "source": [
        "# Extract records with the real categories\n",
        "real_categories = data.loc[data[\"Category\"].isin(categories), :]"
      ]
    },
    {
      "cell_type": "code",
      "execution_count": 30,
      "id": "b8335a45-9802-4d39-9446-a20d472a9fb4",
      "metadata": {
        "id": "b8335a45-9802-4d39-9446-a20d472a9fb4",
        "colab": {
          "base_uri": "https://localhost:8080/",
          "height": 586
        },
        "outputId": "e058b907-e00a-4fb1-a796-7c1e851f100b"
      },
      "outputs": [
        {
          "output_type": "execute_result",
          "data": {
            "text/plain": [
              "Order_datetime     0.000000\n",
              "Order_ID           0.000000\n",
              "Product_ID         0.000000\n",
              "SKU_Quantity       0.000000\n",
              "Category_ID        0.000000\n",
              "Category           0.000000\n",
              "Brand_ID           3.623220\n",
              "Price_USD          0.000000\n",
              "User_ID            0.000000\n",
              "Target_Gender     36.931451\n",
              "Main_Color         2.004174\n",
              "Main_Metal         0.092517\n",
              "Main_Gem          19.433926\n",
              "Order_Date         0.000000\n",
              "Year               0.000000\n",
              "Month              0.000000\n",
              "dtype: float64"
            ],
            "text/html": [
              "<div>\n",
              "<style scoped>\n",
              "    .dataframe tbody tr th:only-of-type {\n",
              "        vertical-align: middle;\n",
              "    }\n",
              "\n",
              "    .dataframe tbody tr th {\n",
              "        vertical-align: top;\n",
              "    }\n",
              "\n",
              "    .dataframe thead th {\n",
              "        text-align: right;\n",
              "    }\n",
              "</style>\n",
              "<table border=\"1\" class=\"dataframe\">\n",
              "  <thead>\n",
              "    <tr style=\"text-align: right;\">\n",
              "      <th></th>\n",
              "      <th>0</th>\n",
              "    </tr>\n",
              "  </thead>\n",
              "  <tbody>\n",
              "    <tr>\n",
              "      <th>Order_datetime</th>\n",
              "      <td>0.000000</td>\n",
              "    </tr>\n",
              "    <tr>\n",
              "      <th>Order_ID</th>\n",
              "      <td>0.000000</td>\n",
              "    </tr>\n",
              "    <tr>\n",
              "      <th>Product_ID</th>\n",
              "      <td>0.000000</td>\n",
              "    </tr>\n",
              "    <tr>\n",
              "      <th>SKU_Quantity</th>\n",
              "      <td>0.000000</td>\n",
              "    </tr>\n",
              "    <tr>\n",
              "      <th>Category_ID</th>\n",
              "      <td>0.000000</td>\n",
              "    </tr>\n",
              "    <tr>\n",
              "      <th>Category</th>\n",
              "      <td>0.000000</td>\n",
              "    </tr>\n",
              "    <tr>\n",
              "      <th>Brand_ID</th>\n",
              "      <td>3.623220</td>\n",
              "    </tr>\n",
              "    <tr>\n",
              "      <th>Price_USD</th>\n",
              "      <td>0.000000</td>\n",
              "    </tr>\n",
              "    <tr>\n",
              "      <th>User_ID</th>\n",
              "      <td>0.000000</td>\n",
              "    </tr>\n",
              "    <tr>\n",
              "      <th>Target_Gender</th>\n",
              "      <td>36.931451</td>\n",
              "    </tr>\n",
              "    <tr>\n",
              "      <th>Main_Color</th>\n",
              "      <td>2.004174</td>\n",
              "    </tr>\n",
              "    <tr>\n",
              "      <th>Main_Metal</th>\n",
              "      <td>0.092517</td>\n",
              "    </tr>\n",
              "    <tr>\n",
              "      <th>Main_Gem</th>\n",
              "      <td>19.433926</td>\n",
              "    </tr>\n",
              "    <tr>\n",
              "      <th>Order_Date</th>\n",
              "      <td>0.000000</td>\n",
              "    </tr>\n",
              "    <tr>\n",
              "      <th>Year</th>\n",
              "      <td>0.000000</td>\n",
              "    </tr>\n",
              "    <tr>\n",
              "      <th>Month</th>\n",
              "      <td>0.000000</td>\n",
              "    </tr>\n",
              "  </tbody>\n",
              "</table>\n",
              "</div><br><label><b>dtype:</b> float64</label>"
            ]
          },
          "metadata": {},
          "execution_count": 30
        }
      ],
      "source": [
        "# Check for missing values\n",
        "100 * real_categories.isnull().sum() / len(data)"
      ]
    },
    {
      "cell_type": "code",
      "execution_count": 31,
      "id": "47b6c2b9-9b5a-45eb-8423-354efc7de46d",
      "metadata": {
        "id": "47b6c2b9-9b5a-45eb-8423-354efc7de46d",
        "colab": {
          "base_uri": "https://localhost:8080/"
        },
        "outputId": "a04d264a-6baf-4cac-e92d-af95a343cec3"
      },
      "outputs": [
        {
          "output_type": "stream",
          "name": "stdout",
          "text": [
            "Order_datetime    0.0\n",
            "Order_ID          0.0\n",
            "Product_ID        0.0\n",
            "SKU_Quantity      0.0\n",
            "Category_ID       0.0\n",
            "Category          0.0\n",
            "Brand_ID          0.0\n",
            "Price_USD         0.0\n",
            "User_ID           0.0\n",
            "Target_Gender     0.0\n",
            "Main_Color        0.0\n",
            "Main_Metal        0.0\n",
            "Main_Gem          0.0\n",
            "Order_Date        0.0\n",
            "Year              0.0\n",
            "Month             0.0\n",
            "dtype: float64\n"
          ]
        }
      ],
      "source": [
        "# Fill missing values in categorical columns with mode or placeholder\n",
        "# Instead of directly modifying the slice, work on the DataFrame by using .loc[]\n",
        "real_categories.loc[:, \"Target_Gender\"] = real_categories[\"Target_Gender\"].fillna(\"Unknown\")\n",
        "real_categories.loc[:, \"Brand_ID\"] = real_categories[\"Brand_ID\"].fillna(-1)\n",
        "real_categories.loc[:, \"Main_Color\"] = real_categories[\"Main_Color\"].fillna(real_categories[\"Main_Color\"].mode()[0])\n",
        "real_categories.loc[:, \"Main_Metal\"] = real_categories[\"Main_Metal\"].fillna(real_categories[\"Main_Metal\"].mode()[0])\n",
        "real_categories.loc[:, \"Main_Gem\"] = real_categories[\"Main_Gem\"].fillna(\"None\")\n",
        "\n",
        "# Check for remaining missing values\n",
        "print(100 * real_categories.isnull().sum() / len(real_categories))\n"
      ]
    },
    {
      "cell_type": "markdown",
      "id": "d3839098-1448-48db-ad3b-91a64965f95f",
      "metadata": {
        "id": "d3839098-1448-48db-ad3b-91a64965f95f"
      },
      "source": [
        "#### Why This Approach?\n",
        "**Clarity**: Using placeholders like \"Unknown\", -1, and \"None\" provides clear markers of missing or unspecified data. It also helps during analysis and model training, as you can distinguish between legitimate data points and entries that require further investigation or treatment.\n",
        "\n",
        "**Context**: Filling with these specific values makes sense based on the context of the dataset. For example, jewelry with no gem is perfectly plausible and should be marked accordingly.\n",
        "\n",
        "**Flexibility**: This approach avoids introducing bias and allows you to manage missing data efficiently without affecting the overall analysis."
      ]
    },
    {
      "cell_type": "code",
      "execution_count": 31,
      "id": "ae0cc6c8-cb50-4fd7-a6f1-b6c3bfb8a07a",
      "metadata": {
        "id": "ae0cc6c8-cb50-4fd7-a6f1-b6c3bfb8a07a"
      },
      "outputs": [],
      "source": []
    },
    {
      "cell_type": "code",
      "execution_count": 32,
      "id": "2e4d108c-803a-4e1e-807b-7520a6d8efd2",
      "metadata": {
        "id": "2e4d108c-803a-4e1e-807b-7520a6d8efd2",
        "colab": {
          "base_uri": "https://localhost:8080/",
          "height": 707
        },
        "outputId": "00fad220-9a19-4ef6-a5ad-883580b5ca1a"
      },
      "outputs": [
        {
          "output_type": "display_data",
          "data": {
            "text/plain": [
              "<Figure size 1500x800 with 1 Axes>"
            ],
            "image/png": "[encoded data removed]"
          },
          "metadata": {}
        }
      ],
      "source": [
        "# Visualize the jewelry category via pie chart\n",
        "\n",
        "jewelry_categories, counts = real_categories[\"Category\"].value_counts().index.tolist(), real_categories[\"Category\"].value_counts().values\n",
        "\n",
        "plt.figure(figsize = (15, 8))\n",
        "plt.pie(x=counts, labels=jewelry_categories)\n",
        "\n",
        "plt.title(\"Pie Plot of Jewelry Category\", fontsize=25, pad=20)\n",
        "\n",
        "plt.show(); plt.close(\"all\")"
      ]
    },
    {
      "cell_type": "code",
      "execution_count": 33,
      "id": "2adf1cd9-d5ec-4b0f-a9f8-3c65ae437c5e",
      "metadata": {
        "id": "2adf1cd9-d5ec-4b0f-a9f8-3c65ae437c5e",
        "colab": {
          "base_uri": "https://localhost:8080/",
          "height": 769
        },
        "outputId": "d16553f6-bd5d-422d-e27c-6c4115f42956"
      },
      "outputs": [
        {
          "output_type": "display_data",
          "data": {
            "text/plain": [
              "<Figure size 1500x800 with 1 Axes>"
            ],
            "image/png": "[encoded data removed]"
          },
          "metadata": {}
        }
      ],
      "source": [
        "# Visualize the countplot for jewelry category\n",
        "plt.figure(figsize = (15, 8))\n",
        "sns.countplot(data=real_categories, x = \"Category\")\n",
        "\n",
        "plt.title(\"Countplot of Jewelry Category\", fontsize=25, pad=20)\n",
        "\n",
        "plt.xlabel(\"Jewelry Category\", fontsize=15, labelpad=10)\n",
        "plt.ylabel(\"Frequency\", fontsize=15, labelpad=10)\n",
        "\n",
        "plt.show(); plt.close(\"all\")"
      ]
    },
    {
      "cell_type": "code",
      "execution_count": 34,
      "id": "1143a66d-d4f5-430b-b5ca-94803f6e9c62",
      "metadata": {
        "id": "1143a66d-d4f5-430b-b5ca-94803f6e9c62",
        "colab": {
          "base_uri": "https://localhost:8080/",
          "height": 769
        },
        "outputId": "46c77db7-8ffe-4787-da95-21b48e678f6f"
      },
      "outputs": [
        {
          "output_type": "display_data",
          "data": {
            "text/plain": [
              "<Figure size 1500x800 with 1 Axes>"
            ],
            "image/png": "[encoded data removed]"
          },
          "metadata": {}
        }
      ],
      "source": [
        "# Visualize the jewelry sample distribution based on jewelry category\n",
        "plt.figure(figsize = (15, 8))\n",
        "sns.histplot(data=real_categories, x = \"Category\")\n",
        "\n",
        "plt.title(\"Histogram Plot of Jewelry Category\", fontsize=25, pad=20)\n",
        "\n",
        "plt.xlabel(\"Jewelry Category\", fontsize=15, labelpad=10)\n",
        "plt.ylabel(\"Frequency\", fontsize=15, labelpad=10)\n",
        "\n",
        "plt.show(); plt.close(\"all\")"
      ]
    },
    {
      "cell_type": "markdown",
      "id": "059d6810-b7df-476f-8325-f87559958a5d",
      "metadata": {
        "id": "059d6810-b7df-476f-8325-f87559958a5d"
      },
      "source": [
        "We can also look at a breakdown of the different jewelry categories by target gender."
      ]
    },
    {
      "cell_type": "code",
      "execution_count": 35,
      "id": "49fcb120-7bf8-479d-9ddc-96a2efadd799",
      "metadata": {
        "id": "49fcb120-7bf8-479d-9ddc-96a2efadd799",
        "colab": {
          "base_uri": "https://localhost:8080/",
          "height": 769
        },
        "outputId": "0a5b031f-d72f-417e-b9bf-229e735b0d37"
      },
      "outputs": [
        {
          "output_type": "display_data",
          "data": {
            "text/plain": [
              "<Figure size 1500x800 with 1 Axes>"
            ],
            "image/png": "[encoded data removed]"
          },
          "metadata": {}
        }
      ],
      "source": [
        "# Jewelry category by gender\n",
        "plt.figure(figsize = (15, 8))\n",
        "sns.countplot(data=real_categories, x = \"Category\", hue = \"Target_Gender\")\n",
        "\n",
        "plt.title(\"Jewelry Category by Target Gender\", fontsize=25, pad=20)\n",
        "\n",
        "plt.xlabel(\"Jewelry Category\", fontsize=15, labelpad=10)\n",
        "plt.ylabel(\"Frequency\", fontsize=15, labelpad=10)\n",
        "\n",
        "plt.show(); plt.close(\"all\")"
      ]
    },
    {
      "cell_type": "code",
      "execution_count": 36,
      "id": "4b14532e-f0e9-4776-8d02-9b8e5bbd9dd7",
      "metadata": {
        "id": "4b14532e-f0e9-4776-8d02-9b8e5bbd9dd7",
        "colab": {
          "base_uri": "https://localhost:8080/",
          "height": 210
        },
        "outputId": "4d069a18-a0c9-4452-9481-e5faade34a09"
      },
      "outputs": [
        {
          "output_type": "execute_result",
          "data": {
            "text/plain": [
              "Target_Gender\n",
              "f          55.683027\n",
              "Unknown    44.005486\n",
              "m           0.311487\n",
              "Name: proportion, dtype: float64"
            ],
            "text/html": [
              "<div>\n",
              "<style scoped>\n",
              "    .dataframe tbody tr th:only-of-type {\n",
              "        vertical-align: middle;\n",
              "    }\n",
              "\n",
              "    .dataframe tbody tr th {\n",
              "        vertical-align: top;\n",
              "    }\n",
              "\n",
              "    .dataframe thead th {\n",
              "        text-align: right;\n",
              "    }\n",
              "</style>\n",
              "<table border=\"1\" class=\"dataframe\">\n",
              "  <thead>\n",
              "    <tr style=\"text-align: right;\">\n",
              "      <th></th>\n",
              "      <th>proportion</th>\n",
              "    </tr>\n",
              "    <tr>\n",
              "      <th>Target_Gender</th>\n",
              "      <th></th>\n",
              "    </tr>\n",
              "  </thead>\n",
              "  <tbody>\n",
              "    <tr>\n",
              "      <th>f</th>\n",
              "      <td>55.683027</td>\n",
              "    </tr>\n",
              "    <tr>\n",
              "      <th>Unknown</th>\n",
              "      <td>44.005486</td>\n",
              "    </tr>\n",
              "    <tr>\n",
              "      <th>m</th>\n",
              "      <td>0.311487</td>\n",
              "    </tr>\n",
              "  </tbody>\n",
              "</table>\n",
              "</div><br><label><b>dtype:</b> float64</label>"
            ]
          },
          "metadata": {},
          "execution_count": 36
        }
      ],
      "source": [
        "# Jewelry target gender distribution\n",
        "real_categories[\"Target_Gender\"].value_counts(normalize=True) * 100"
      ]
    },
    {
      "cell_type": "code",
      "execution_count": 36,
      "id": "41bd90d5-de11-4c42-b415-952786498650",
      "metadata": {
        "id": "41bd90d5-de11-4c42-b415-952786498650"
      },
      "outputs": [],
      "source": []
    },
    {
      "cell_type": "markdown",
      "id": "c7c6bde1-f401-4a1c-bd4e-ee5a38bcd303",
      "metadata": {
        "id": "c7c6bde1-f401-4a1c-bd4e-ee5a38bcd303"
      },
      "source": [
        "### Feature engineering"
      ]
    },
    {
      "cell_type": "code",
      "execution_count": 37,
      "id": "50d4e5c1-83be-4646-92e2-35bfe52608d3",
      "metadata": {
        "id": "50d4e5c1-83be-4646-92e2-35bfe52608d3",
        "colab": {
          "base_uri": "https://localhost:8080/",
          "height": 586
        },
        "outputId": "c2fc9682-973d-4850-c3ff-8fe545ba6e88"
      },
      "outputs": [
        {
          "output_type": "execute_result",
          "data": {
            "text/plain": [
              "Order_datetime    63412\n",
              "Order_ID          31012\n",
              "Product_ID         1550\n",
              "SKU_Quantity          1\n",
              "Category_ID           2\n",
              "Category              8\n",
              "Brand_ID              7\n",
              "Price_USD          2849\n",
              "User_ID             383\n",
              "Target_Gender         3\n",
              "Main_Color            4\n",
              "Main_Metal            3\n",
              "Main_Gem             31\n",
              "Order_Date         1082\n",
              "Year                  4\n",
              "Month                12\n",
              "dtype: int64"
            ],
            "text/html": [
              "<div>\n",
              "<style scoped>\n",
              "    .dataframe tbody tr th:only-of-type {\n",
              "        vertical-align: middle;\n",
              "    }\n",
              "\n",
              "    .dataframe tbody tr th {\n",
              "        vertical-align: top;\n",
              "    }\n",
              "\n",
              "    .dataframe thead th {\n",
              "        text-align: right;\n",
              "    }\n",
              "</style>\n",
              "<table border=\"1\" class=\"dataframe\">\n",
              "  <thead>\n",
              "    <tr style=\"text-align: right;\">\n",
              "      <th></th>\n",
              "      <th>0</th>\n",
              "    </tr>\n",
              "  </thead>\n",
              "  <tbody>\n",
              "    <tr>\n",
              "      <th>Order_datetime</th>\n",
              "      <td>63412</td>\n",
              "    </tr>\n",
              "    <tr>\n",
              "      <th>Order_ID</th>\n",
              "      <td>31012</td>\n",
              "    </tr>\n",
              "    <tr>\n",
              "      <th>Product_ID</th>\n",
              "      <td>1550</td>\n",
              "    </tr>\n",
              "    <tr>\n",
              "      <th>SKU_Quantity</th>\n",
              "      <td>1</td>\n",
              "    </tr>\n",
              "    <tr>\n",
              "      <th>Category_ID</th>\n",
              "      <td>2</td>\n",
              "    </tr>\n",
              "    <tr>\n",
              "      <th>Category</th>\n",
              "      <td>8</td>\n",
              "    </tr>\n",
              "    <tr>\n",
              "      <th>Brand_ID</th>\n",
              "      <td>7</td>\n",
              "    </tr>\n",
              "    <tr>\n",
              "      <th>Price_USD</th>\n",
              "      <td>2849</td>\n",
              "    </tr>\n",
              "    <tr>\n",
              "      <th>User_ID</th>\n",
              "      <td>383</td>\n",
              "    </tr>\n",
              "    <tr>\n",
              "      <th>Target_Gender</th>\n",
              "      <td>3</td>\n",
              "    </tr>\n",
              "    <tr>\n",
              "      <th>Main_Color</th>\n",
              "      <td>4</td>\n",
              "    </tr>\n",
              "    <tr>\n",
              "      <th>Main_Metal</th>\n",
              "      <td>3</td>\n",
              "    </tr>\n",
              "    <tr>\n",
              "      <th>Main_Gem</th>\n",
              "      <td>31</td>\n",
              "    </tr>\n",
              "    <tr>\n",
              "      <th>Order_Date</th>\n",
              "      <td>1082</td>\n",
              "    </tr>\n",
              "    <tr>\n",
              "      <th>Year</th>\n",
              "      <td>4</td>\n",
              "    </tr>\n",
              "    <tr>\n",
              "      <th>Month</th>\n",
              "      <td>12</td>\n",
              "    </tr>\n",
              "  </tbody>\n",
              "</table>\n",
              "</div><br><label><b>dtype:</b> int64</label>"
            ]
          },
          "metadata": {},
          "execution_count": 37
        }
      ],
      "source": [
        "real_categories.nunique()"
      ]
    },
    {
      "cell_type": "code",
      "execution_count": 37,
      "id": "8ccbecb4-673e-4daa-a48c-fbef5ed08be2",
      "metadata": {
        "id": "8ccbecb4-673e-4daa-a48c-fbef5ed08be2"
      },
      "outputs": [],
      "source": []
    },
    {
      "cell_type": "markdown",
      "id": "a9e494bc-7f3c-4e61-b62e-6f71378b9f1a",
      "metadata": {
        "id": "a9e494bc-7f3c-4e61-b62e-6f71378b9f1a"
      },
      "source": [
        "### Feature engineering"
      ]
    },
    {
      "cell_type": "code",
      "execution_count": 38,
      "id": "725433c5-81c1-4e6d-8a1f-6f45a55b2761",
      "metadata": {
        "id": "725433c5-81c1-4e6d-8a1f-6f45a55b2761"
      },
      "outputs": [],
      "source": [
        "# Drop irrelevant features from the main DataFrame\n",
        "real_categories = real_categories.drop([\"Order_datetime\", \"User_ID\", \"Order_ID\", \"Order_Date\", \"SKU_Quantity\", \"Category_ID\", \"Product_ID\" ], axis=1)\n"
      ]
    },
    {
      "cell_type": "code",
      "execution_count": 39,
      "id": "9d143472-ee3e-4bc1-8dd6-9564fe25b895",
      "metadata": {
        "id": "9d143472-ee3e-4bc1-8dd6-9564fe25b895",
        "colab": {
          "base_uri": "https://localhost:8080/"
        },
        "outputId": "deefb84a-98fe-4242-ffce-4f8ab587d054"
      },
      "outputs": [
        {
          "output_type": "stream",
          "name": "stdout",
          "text": [
            "  Category  Price_USD Target_Gender Main_Color Main_Metal  Year  Month  \\\n",
            "0        0     561.51             0          0          0  2018     12   \n",
            "2        1      54.66             1          1          0  2018     12   \n",
            "3        1      88.90             1          0          0  2018     12   \n",
            "4        2     417.67             0          0          0  2018     12   \n",
            "5        0     102.27             0          0          0  2018     12   \n",
            "\n",
            "   Main_Gem_agate  Main_Gem_amber  Main_Gem_amethyst  ...  Main_Gem_spinel  \\\n",
            "0           False           False              False  ...            False   \n",
            "2           False           False              False  ...            False   \n",
            "3           False           False              False  ...            False   \n",
            "4           False           False               True  ...            False   \n",
            "5           False           False              False  ...            False   \n",
            "\n",
            "   Main_Gem_topaz  Main_Gem_tourmaline  Main_Gem_turquoise  Brand_ID_0.0  \\\n",
            "0           False                False               False          True   \n",
            "2           False                False               False         False   \n",
            "3           False                False               False          True   \n",
            "4           False                False               False          True   \n",
            "5           False                False               False         False   \n",
            "\n",
            "   Brand_ID_1.0  Brand_ID_2.0  Brand_ID_3.0  Brand_ID_4.0  Brand_ID_5.0  \n",
            "0         False         False         False         False         False  \n",
            "2          True         False         False         False         False  \n",
            "3         False         False         False         False         False  \n",
            "4         False         False         False         False         False  \n",
            "5          True         False         False         False         False  \n",
            "\n",
            "[5 rows x 43 columns]\n"
          ]
        }
      ],
      "source": [
        "# Small Categories (use pd.factorize for these columns)\n",
        "\n",
        "small_categories = [\"Main_Metal\", \"Target_Gender\", \"Category\", \"Main_Color\"]  # Now includes Main_Color\n",
        "for col in small_categories:\n",
        "    real_categories.loc[:, col] = pd.factorize(real_categories[col])[0]\n",
        "\n",
        "\n",
        "# Larger Categories (use One-Hot Encoding for these columns)\n",
        "large_categories = [\"Main_Gem\", \"Brand_ID\"]  # Columns with 7 or more unique categories\n",
        "real_categories = pd.get_dummies(real_categories, columns=large_categories, drop_first=True)\n",
        "\n",
        "# Show the final encoded DataFrame\n",
        "print(real_categories.head())\n"
      ]
    },
    {
      "cell_type": "code",
      "execution_count": 40,
      "id": "1e220c2c-67e5-47b5-82ad-64fcc4146e08",
      "metadata": {
        "id": "1e220c2c-67e5-47b5-82ad-64fcc4146e08",
        "colab": {
          "base_uri": "https://localhost:8080/"
        },
        "outputId": "0a2c0103-e325-4a07-9ba1-2a1c1e5db33c"
      },
      "outputs": [
        {
          "output_type": "stream",
          "name": "stdout",
          "text": [
            "Price_USD                       1.000000\n",
            "Main_Gem_diamond                0.477523\n",
            "Main_Color                      0.187928\n",
            "Category                        0.064664\n",
            "Target_Gender                   0.046384\n",
            "Main_Gem_emerald                0.042846\n",
            "Year                            0.035961\n",
            "Month                           0.027186\n",
            "Main_Gem_sitall                 0.021890\n",
            "Main_Gem_quartz                 0.020991\n",
            "Brand_ID_1.0                    0.020130\n",
            "Main_Gem_rhodolite              0.018705\n",
            "Main_Gem_agate                  0.016426\n",
            "Brand_ID_0.0                    0.013787\n",
            "Main_Gem_ruby                   0.010319\n",
            "Main_Gem_nanocrystal            0.009729\n",
            "Main_Gem_amber                  0.008634\n",
            "Main_Gem_onyx                   0.005931\n",
            "Main_Gem_garnet_synthetic       0.005360\n",
            "Main_Gem_turquoise              0.002748\n",
            "Main_Gem_mix                    0.002598\n",
            "Main_Gem_sapphire               0.002536\n",
            "Main_Gem_corundum_synthetic     0.000280\n",
            "Main_Gem_sapphire_geothermal   -0.000804\n",
            "Main_Gem_tourmaline            -0.001176\n",
            "Main_Gem_nacre                 -0.002122\n",
            "Main_Gem_quartz_smoky          -0.002863\n",
            "Main_Gem_chrysoprase           -0.003031\n",
            "Brand_ID_5.0                   -0.005383\n",
            "Main_Gem_pearl                 -0.008447\n",
            "Main_Gem_emerald_geothermal    -0.009033\n",
            "Main_Gem_amethyst              -0.009188\n",
            "Main_Gem_garnet                -0.013335\n",
            "Main_Gem_citrine               -0.017664\n",
            "Main_Gem_chrysolite            -0.023235\n",
            "Brand_ID_3.0                   -0.026457\n",
            "Brand_ID_4.0                   -0.030574\n",
            "Main_Gem_coral                 -0.036483\n",
            "Brand_ID_2.0                   -0.038321\n",
            "Main_Gem_topaz                 -0.039668\n",
            "Main_Gem_spinel                -0.068461\n",
            "Main_Metal                     -0.191162\n",
            "Main_Gem_fianit                -0.320687\n",
            "Name: Price_USD, dtype: float64\n"
          ]
        }
      ],
      "source": [
        "# Compute Spearman correlation\n",
        "correlations = real_categories.corr(\"spearman\")\n",
        "\n",
        "# Show correlation with target variable (Price_USD)\n",
        "print(correlations[\"Price_USD\"].sort_values(ascending=False))\n"
      ]
    },
    {
      "cell_type": "markdown",
      "id": "bb6a2760-de96-4f9c-8ecb-fd84fd7179e0",
      "metadata": {
        "id": "bb6a2760-de96-4f9c-8ecb-fd84fd7179e0"
      },
      "source": [
        "### Key Insights\n",
        "**High Correlations**:\n",
        "Main_Gem_diamond (0.477): This has a moderate positive correlation with the price, meaning diamond is likely a significant factor in determining jewelry prices.\n",
        "Main_Color (0.187) and Category (0.064): These also have some positive correlation, though weaker.\n",
        "\n",
        "**Negative Correlations**:\n",
        "Main_Metal (-0.191): There seems to be a negative correlation with price. Depending on the context, it could indicate that certain metals are priced lower, but this will depend on the specific types of metals and their market prices.\n",
        "Main_Gem_fianit (-0.320): It has a stronger negative correlation. This might suggest that certain gems are associated with lower-priced jewelry.\n",
        "\n",
        "**Weak or No Correlation**:\n",
        "Many of the Main_Gem columns (like tourmaline, quartz_smoky, etc.) have very weak correlations or are close to 0, implying that they may not significantly affect the price prediction."
      ]
    },
    {
      "cell_type": "code",
      "execution_count": 40,
      "id": "a4b984cb-84c5-42a5-a322-334f9eaff998",
      "metadata": {
        "id": "a4b984cb-84c5-42a5-a322-334f9eaff998"
      },
      "outputs": [],
      "source": []
    },
    {
      "cell_type": "code",
      "execution_count": 41,
      "id": "9abb2325-dd73-4ec6-83f5-146f113a89a1",
      "metadata": {
        "id": "9abb2325-dd73-4ec6-83f5-146f113a89a1"
      },
      "outputs": [],
      "source": [
        "# Define the lower and upper correlation limits\n",
        "lower_corr_limits = 0.1   # For example, set a lower bound (can be adjusted based on your preference)\n",
        "upper_corr_limits = 0.9   # Set an upper bound (can be adjusted)\n"
      ]
    },
    {
      "cell_type": "code",
      "execution_count": 42,
      "id": "af33c585-88cc-46cd-a8f5-1488f6b93733",
      "metadata": {
        "id": "af33c585-88cc-46cd-a8f5-1488f6b93733"
      },
      "outputs": [],
      "source": [
        "# Create a dictionary of correlated columns based on the correlation limits\n",
        "correlated_columns = {\n",
        "    column: correlations[(correlations[column] > lower_corr_limits) & (upper_corr_limits > correlations[column])].index.tolist()\n",
        "    for column in correlations.columns\n",
        "}"
      ]
    },
    {
      "cell_type": "code",
      "execution_count": 43,
      "id": "9f5b7703-55d5-4467-b622-b0685a093333",
      "metadata": {
        "id": "9f5b7703-55d5-4467-b622-b0685a093333",
        "colab": {
          "base_uri": "https://localhost:8080/"
        },
        "outputId": "e7150180-15f5-48e3-f6fa-e200d318b696"
      },
      "outputs": [
        {
          "output_type": "stream",
          "name": "stdout",
          "text": [
            "Category: ['Main_Metal']\n",
            "Price_USD: ['Main_Color', 'Main_Gem_diamond']\n",
            "Target_Gender: ['Main_Gem_pearl', 'Brand_ID_1.0', 'Brand_ID_2.0']\n",
            "Main_Color: ['Price_USD', 'Main_Gem_diamond', 'Brand_ID_0.0']\n",
            "Main_Metal: ['Category', 'Main_Gem_coral', 'Main_Gem_spinel', 'Brand_ID_3.0', 'Brand_ID_4.0']\n",
            "Year: []\n",
            "Month: []\n",
            "Main_Gem_agate: []\n",
            "Main_Gem_amber: []\n",
            "Main_Gem_amethyst: []\n",
            "Main_Gem_chrysolite: []\n",
            "Main_Gem_chrysoprase: []\n",
            "Main_Gem_citrine: []\n",
            "Main_Gem_coral: ['Main_Metal']\n",
            "Main_Gem_corundum_synthetic: []\n",
            "Main_Gem_diamond: ['Price_USD', 'Main_Color']\n",
            "Main_Gem_emerald: []\n",
            "Main_Gem_emerald_geothermal: []\n",
            "Main_Gem_fianit: []\n",
            "Main_Gem_garnet: []\n",
            "Main_Gem_garnet_synthetic: []\n",
            "Main_Gem_mix: []\n",
            "Main_Gem_nacre: []\n",
            "Main_Gem_nanocrystal: []\n",
            "Main_Gem_onyx: []\n",
            "Main_Gem_pearl: ['Target_Gender']\n",
            "Main_Gem_quartz: []\n",
            "Main_Gem_quartz_smoky: []\n",
            "Main_Gem_rhodolite: []\n",
            "Main_Gem_ruby: []\n",
            "Main_Gem_sapphire: []\n",
            "Main_Gem_sapphire_geothermal: []\n",
            "Main_Gem_sitall: []\n",
            "Main_Gem_spinel: ['Main_Metal']\n",
            "Main_Gem_topaz: []\n",
            "Main_Gem_tourmaline: []\n",
            "Main_Gem_turquoise: []\n",
            "Brand_ID_0.0: ['Main_Color']\n",
            "Brand_ID_1.0: ['Target_Gender']\n",
            "Brand_ID_2.0: ['Target_Gender']\n",
            "Brand_ID_3.0: ['Main_Metal']\n",
            "Brand_ID_4.0: ['Main_Metal']\n",
            "Brand_ID_5.0: []\n"
          ]
        }
      ],
      "source": [
        "# Print out the correlated columns\n",
        "for column, correlated in correlated_columns.items():\n",
        "    print(f\"{column}: {correlated}\")"
      ]
    },
    {
      "cell_type": "code",
      "execution_count": 44,
      "id": "c15c1024-2352-4c03-b058-a786d75f9933",
      "metadata": {
        "id": "c15c1024-2352-4c03-b058-a786d75f9933",
        "colab": {
          "base_uri": "https://localhost:8080/"
        },
        "outputId": "6feeb4a3-b023-4f4f-fe0a-2464511aeb95"
      },
      "outputs": [
        {
          "output_type": "stream",
          "name": "stdout",
          "text": [
            "Category is correlated with: ['Main_Metal']\n",
            "Price_USD is correlated with: ['Main_Color', 'Main_Gem_diamond']\n",
            "Target_Gender is correlated with: ['Main_Gem_pearl', 'Brand_ID_1.0', 'Brand_ID_2.0']\n",
            "Main_Color is correlated with: ['Price_USD', 'Main_Gem_diamond', 'Brand_ID_0.0']\n",
            "Main_Metal is correlated with: ['Category', 'Main_Gem_coral', 'Main_Gem_spinel', 'Brand_ID_3.0', 'Brand_ID_4.0']\n",
            "Main_Gem_coral is correlated with: ['Main_Metal']\n",
            "Main_Gem_diamond is correlated with: ['Price_USD', 'Main_Color']\n",
            "Main_Gem_pearl is correlated with: ['Target_Gender']\n",
            "Main_Gem_spinel is correlated with: ['Main_Metal']\n",
            "Brand_ID_0.0 is correlated with: ['Main_Color']\n",
            "Brand_ID_1.0 is correlated with: ['Target_Gender']\n",
            "Brand_ID_2.0 is correlated with: ['Target_Gender']\n",
            "Brand_ID_3.0 is correlated with: ['Main_Metal']\n",
            "Brand_ID_4.0 is correlated with: ['Main_Metal']\n"
          ]
        }
      ],
      "source": [
        "# Filter out columns with no correlations (those with an empty list of correlated columns)\n",
        "correlated_columns = {k: v for k, v in correlated_columns.items() if len(v) > 0}\n",
        "\n",
        "# Display columns with correlations\n",
        "for column, correlated_list in correlated_columns.items():\n",
        "    print(f\"{column} is correlated with: {correlated_list}\")\n"
      ]
    },
    {
      "cell_type": "markdown",
      "id": "4d1dab31-9f25-424e-83db-9fa6489a5034",
      "metadata": {
        "id": "4d1dab31-9f25-424e-83db-9fa6489a5034"
      },
      "source": [
        "### Key Insights\n",
        "- Product_ID is correlated with Brand_ID_0.0 and Brand_ID_2.0.\n",
        "- Category is correlated with Main_Metal—this might be expected if both represent related product attributes.\n",
        "- Price_USD shows correlations with Main_Color and Main_Gem_diamond, which could indicate a relationship between product attributes and pricing.\n",
        "- Target_Gender has correlations with Main_Gem_pearl and several brand IDs.\n",
        "- Columns like Main_Gem_spinel, Main_Gem_coral, and Main_Gem_diamond are correlated with Main_Metal and Price_USD, which can help refine feature selection."
      ]
    },
    {
      "cell_type": "code",
      "execution_count": 45,
      "id": "c1861ea2-5971-4980-8d1d-8e7750e7486b",
      "metadata": {
        "id": "c1861ea2-5971-4980-8d1d-8e7750e7486b",
        "colab": {
          "base_uri": "https://localhost:8080/"
        },
        "outputId": "b624d6fd-77d5-46e1-d2a7-f83c73c116cb"
      },
      "outputs": [
        {
          "output_type": "stream",
          "name": "stdout",
          "text": [
            "  Category  Price_USD Target_Gender Main_Color Main_Metal  Year  Month  \\\n",
            "0        0   0.016272             0          0          0   0.0    1.0   \n",
            "2        1   0.001558             1          1          0   0.0    1.0   \n",
            "3        1   0.002552             1          0          0   0.0    1.0   \n",
            "4        2   0.012096             0          0          0   0.0    1.0   \n",
            "5        0   0.002940             0          0          0   0.0    1.0   \n",
            "\n",
            "   Main_Gem_agate  Main_Gem_amber  Main_Gem_amethyst  ...  Main_Gem_spinel  \\\n",
            "0           False           False              False  ...            False   \n",
            "2           False           False              False  ...            False   \n",
            "3           False           False              False  ...            False   \n",
            "4           False           False               True  ...            False   \n",
            "5           False           False              False  ...            False   \n",
            "\n",
            "   Main_Gem_topaz  Main_Gem_tourmaline  Main_Gem_turquoise  Brand_ID_0.0  \\\n",
            "0           False                False               False          True   \n",
            "2           False                False               False         False   \n",
            "3           False                False               False          True   \n",
            "4           False                False               False          True   \n",
            "5           False                False               False         False   \n",
            "\n",
            "   Brand_ID_1.0  Brand_ID_2.0  Brand_ID_3.0  Brand_ID_4.0  Brand_ID_5.0  \n",
            "0         False         False         False         False         False  \n",
            "2          True         False         False         False         False  \n",
            "3         False         False         False         False         False  \n",
            "4         False         False         False         False         False  \n",
            "5          True         False         False         False         False  \n",
            "\n",
            "[5 rows x 43 columns]\n"
          ]
        }
      ],
      "source": [
        "from sklearn.preprocessing import MinMaxScaler\n",
        "\n",
        "# List of numerical columns to scale\n",
        "numeric_columns = ['Price_USD', 'Year', 'Month']  # Adjust as needed\n",
        "\n",
        "# Apply MinMax scaling\n",
        "scaler = MinMaxScaler()\n",
        "real_categories[numeric_columns] = scaler.fit_transform(real_categories[numeric_columns])\n",
        "\n",
        "# Check the transformed data\n",
        "print(real_categories.head())\n"
      ]
    },
    {
      "cell_type": "code",
      "execution_count": 45,
      "id": "fa4204be-1913-4337-b3f7-7dd55639fe71",
      "metadata": {
        "id": "fa4204be-1913-4337-b3f7-7dd55639fe71"
      },
      "outputs": [],
      "source": []
    },
    {
      "cell_type": "markdown",
      "id": "0bd3e1c6-5bae-4dc0-8b2b-7632d42100b8",
      "metadata": {
        "id": "0bd3e1c6-5bae-4dc0-8b2b-7632d42100b8"
      },
      "source": [
        "#### 2.2. Data Implications\n",
        "\n",
        "Implied by our findings above, we can say the following:\n",
        "\n",
        "1. ___Missing values and outliers___: There are a lot of missing values in the dataset. This may be fixed either by value imputation of missingness encoding. As regards outliers, there are quite a lot also. These can be filtered out.\n",
        "\n",
        "2. ___Data corruption___: Some variables, (e.g., _jewelry_category_) contain corrupt values.\n",
        "\n",
        "3. ___Rare values___: Some features have some values that occur rarely. A prime instance of this is the _Target_Gender_ column, where the _male_ gender is rarely represented. Sometimes, these are data issues. Other times, like in this case, this can be a true reflection of the distribution from which the data is generated.\n",
        "\n",
        "4. ___Low cardinality or feature invariance___: The _SKU_Quantity_ feature only has one unique value (e.g., 1). This feature provideds no new information.\n",
        "\n",
        "5. ___Target skew___: The target variable is highly right-skewed. This can present an issue during training.\n",
        "\n",
        "6. ___Correlation___: For the most part, the features exhibit low multicollinearity, hence ensuring feature independence. However, the target variable exhibits a low correlation with the independent variables.\n",
        "\n",
        "\n",
        "---"
      ]
    },
    {
      "cell_type": "markdown",
      "id": "42420915-7507-474d-986e-4f6b5ac0ec45",
      "metadata": {
        "id": "42420915-7507-474d-986e-4f6b5ac0ec45"
      },
      "source": [
        "<div><h3>03. Data Preparation</h3></div>"
      ]
    },
    {
      "cell_type": "markdown",
      "id": "bf623390-6232-4db4-8cc6-10a01ec4de82",
      "metadata": {
        "id": "bf623390-6232-4db4-8cc6-10a01ec4de82"
      },
      "source": [
        "Based on the *__Data Implications__* discovered prior, the following steps will be experimented upon for the data preparation stage.\n",
        "\n",
        "1. __Missing Values__: The missing values will be treated via an algorithmic method, ___SimpleImputer___.\n",
        "\n",
        "2. __Feature Encoding__: The categorical features will be encoded.\n",
        "\n",
        "3. __Redundant Features__: Certain features will be eliminated for a number of reasons. These are:\n",
        "   1. _SKU_Quantity_: Feature invariance\n",
        "   \n",
        "   2. _Order_ID_: Simple identifier; has no real-world influence on jewelry price.\n",
        "\n",
        "   3. _Product_ID_: Same with _Order_ID_.\n",
        "\n",
        "   4. _Order_Datetime_: Avoid data leakage; would not be available in real-world.\n",
        "\n",
        "4. __Target Skew__: The target variabloe is strongly right-skewed. This can be an issue when learning a mapping from the data space to the label space. Thiis issue will be fixed using the ___TransformedTargetRegressor___ utility.\n",
        "\n",
        "___NOTE___:\n",
        "Most of the data preparation steps will be carried out via the use of ___Pipeline___ class from _Sci-kit learn_. The Pipeline object allows us to chain transformers and estimators sequentially for use as one composite object."
      ]
    },
    {
      "cell_type": "markdown",
      "id": "b1b8078d-2159-4d9e-ac21-e01edbf8a13f",
      "metadata": {
        "id": "b1b8078d-2159-4d9e-ac21-e01edbf8a13f"
      },
      "source": [
        "### Train Model"
      ]
    },
    {
      "cell_type": "code",
      "execution_count": 46,
      "id": "b901b1af-d8ca-424a-8c17-e70e86e03b80",
      "metadata": {
        "id": "b901b1af-d8ca-424a-8c17-e70e86e03b80",
        "colab": {
          "base_uri": "https://localhost:8080/"
        },
        "outputId": "1b41f8b5-ee82-4a68-ba17-3f3ebef7d454"
      },
      "outputs": [
        {
          "output_type": "stream",
          "name": "stderr",
          "text": [
            "/usr/local/lib/python3.11/dist-packages/dask/dataframe/__init__.py:42: FutureWarning: \n",
            "Dask dataframe query planning is disabled because dask-expr is not installed.\n",
            "\n",
            "You can install it with `pip install dask[dataframe]` or `conda install dask`.\n",
            "This will raise in a future version.\n",
            "\n",
            "  warnings.warn(msg, FutureWarning)\n"
          ]
        }
      ],
      "source": [
        "from sklearn.compose import ColumnTransformer\n",
        "from sklearn.preprocessing import MinMaxScaler\n",
        "from sklearn.pipeline import Pipeline\n",
        "from sklearn.linear_model import LinearRegression\n",
        "from sklearn.ensemble import RandomForestRegressor\n",
        "from xgboost import XGBRegressor\n",
        "from lightgbm import LGBMRegressor\n",
        "from sklearn.tree import DecisionTreeRegressor"
      ]
    },
    {
      "cell_type": "code",
      "execution_count": 47,
      "id": "0b1c8ee5-a52b-4a6b-af54-e6f7bbee9572",
      "metadata": {
        "id": "0b1c8ee5-a52b-4a6b-af54-e6f7bbee9572",
        "colab": {
          "base_uri": "https://localhost:8080/"
        },
        "outputId": "61ef81a1-a152-4f18-813e-e25eed5bfdb4"
      },
      "outputs": [
        {
          "output_type": "stream",
          "name": "stdout",
          "text": [
            "Training samples: 62410, Testing samples: 15603\n"
          ]
        }
      ],
      "source": [
        "from sklearn.model_selection import train_test_split\n",
        "\n",
        "# Define features and target\n",
        "X = real_categories.drop(columns=[\"Price_USD\"])  # Exclude target variable\n",
        "y = real_categories[\"Price_USD\"]\n",
        "\n",
        "# Split data into 80% train, 20% test\n",
        "X_train, X_test, y_train, y_test = train_test_split(X, y, test_size=0.2, random_state=42)\n",
        "\n",
        "print(f\"Training samples: {X_train.shape[0]}, Testing samples: {X_test.shape[0]}\")\n"
      ]
    },
    {
      "cell_type": "code",
      "execution_count": 48,
      "id": "6f19abdc-bf93-4e19-bd8e-5e3433c72eff",
      "metadata": {
        "id": "6f19abdc-bf93-4e19-bd8e-5e3433c72eff"
      },
      "outputs": [],
      "source": [
        "# List of numeric features to scale (exclude 'Price_USD')\n",
        "numeric_features = ['Year', 'Month']  # Don't include 'Price_USD' as it's the target\n",
        "\n",
        "# Categorical features\n",
        "categorical_features = [col for col in X.columns if col not in numeric_features and col != 'Price_USD']\n",
        "\n",
        "# Define preprocessing steps\n",
        "preprocessor = ColumnTransformer(\n",
        "    transformers=[\n",
        "        ('num', 'passthrough', numeric_features),  # No scaling needed, just pass through\n",
        "        ('cat', 'passthrough', categorical_features)  # Pass through encoded categorical features\n",
        "    ]\n",
        ")\n",
        "\n",
        "# List of models to try\n",
        "models = {\n",
        "    \"LinearRegression\": LinearRegression(),\n",
        "    \"RandomForest\": RandomForestRegressor(),\n",
        "    \"XGBoost\": XGBRegressor(),\n",
        "    \"LightGBM\": LGBMRegressor(),\n",
        "    \"DecisionTree\": DecisionTreeRegressor()\n",
        "}\n",
        "\n",
        "# Create and store pipelines with model names\n",
        "pipelines = {\n",
        "    model_name: Pipeline(steps=[\n",
        "        ('preprocessor', preprocessor),  # No additional scaling\n",
        "        ('model', model)\n",
        "    ])\n",
        "    for model_name, model in models.items()\n",
        "}\n"
      ]
    },
    {
      "cell_type": "code",
      "source": [
        "# Linear Regression Evaluation\n",
        "from sklearn.metrics import mean_squared_error, r2_score\n",
        "\n",
        "# Train the model\n",
        "linear_model = pipelines[\"LinearRegression\"]\n",
        "linear_model.fit(X_train, y_train)\n",
        "\n",
        "# Predictions\n",
        "y_pred = linear_model.predict(X_test)\n",
        "\n",
        "# RMSE\n",
        "rmse = np.sqrt(mean_squared_error(y_test, y_pred))  # Calculate RMSE directly using np.sqrt\n",
        "# R-squared\n",
        "r2 = r2_score(y_test, y_pred)\n",
        "\n",
        "# Output\n",
        "print(f\"LinearRegression RMSE: {rmse:.4f}\")\n",
        "print(f\"LinearRegression R-squared: {r2:.4f}\")"
      ],
      "metadata": {
        "id": "EcUXkz30aHMo",
        "colab": {
          "base_uri": "https://localhost:8080/"
        },
        "outputId": "8ef7656c-1f00-4337-8645-9b7b6c6e6657"
      },
      "id": "EcUXkz30aHMo",
      "execution_count": 49,
      "outputs": [
        {
          "output_type": "stream",
          "name": "stdout",
          "text": [
            "LinearRegression RMSE: 0.0145\n",
            "LinearRegression R-squared: 0.0908\n"
          ]
        }
      ]
    },
    {
      "cell_type": "code",
      "execution_count": 50,
      "id": "b75d3e7a-cac3-4359-8187-7bf5ce5244b4",
      "metadata": {
        "id": "b75d3e7a-cac3-4359-8187-7bf5ce5244b4",
        "colab": {
          "base_uri": "https://localhost:8080/"
        },
        "outputId": "d8bcc9ed-7452-4142-cbcf-ef0ac8bf10d4"
      },
      "outputs": [
        {
          "output_type": "stream",
          "name": "stdout",
          "text": [
            "RandomForest RMSE: 0.0126\n",
            "RandomForest R-squared: 0.3059\n"
          ]
        }
      ],
      "source": [
        "# Random Forest Evaluation\n",
        "random_forest_model = pipelines[\"RandomForest\"]\n",
        "random_forest_model.fit(X_train, y_train)\n",
        "\n",
        "# Predictions\n",
        "y_pred_rf = random_forest_model.predict(X_test)\n",
        "\n",
        "# rmse_rf = mean_squared_error(y_test, y_pred_rf, squared=False)  # Remove squared=False if using an older version\n",
        "rmse_rf = np.sqrt(mean_squared_error(y_test, y_pred_rf))  # Calculate RMSE using NumPy\n",
        "# R-squared\n",
        "r2_rf = r2_score(y_test, y_pred_rf)\n",
        "\n",
        "# Output\n",
        "print(f\"RandomForest RMSE: {rmse_rf:.4f}\")\n",
        "print(f\"RandomForest R-squared: {r2_rf:.4f}\")"
      ]
    },
    {
      "cell_type": "code",
      "execution_count": 51,
      "id": "53b9a0ad-e55b-4c01-86ec-70f2c777edd6",
      "metadata": {
        "id": "53b9a0ad-e55b-4c01-86ec-70f2c777edd6",
        "colab": {
          "base_uri": "https://localhost:8080/"
        },
        "outputId": "d383ec82-b36a-4cb6-ba10-e741010ef126"
      },
      "outputs": [
        {
          "output_type": "stream",
          "name": "stderr",
          "text": [
            "/usr/local/lib/python3.11/dist-packages/sklearn/utils/deprecation.py:151: FutureWarning: 'force_all_finite' was renamed to 'ensure_all_finite' in 1.6 and will be removed in 1.8.\n",
            "  warnings.warn(\n"
          ]
        },
        {
          "output_type": "stream",
          "name": "stdout",
          "text": [
            "[LightGBM] [Info] Auto-choosing row-wise multi-threading, the overhead of testing was 0.005616 seconds.\n",
            "You can set `force_row_wise=true` to remove the overhead.\n",
            "And if memory is not enough, you can set `force_col_wise=true`.\n",
            "[LightGBM] [Info] Total Bins 87\n",
            "[LightGBM] [Info] Number of data points in the train set: 62410, number of used features: 33\n",
            "[LightGBM] [Info] Start training from score 0.010206\n",
            "LightGBM RMSE: 0.0124\n",
            "LightGBM R-squared: 0.3280\n"
          ]
        },
        {
          "output_type": "stream",
          "name": "stderr",
          "text": [
            "/usr/local/lib/python3.11/dist-packages/sklearn/utils/deprecation.py:151: FutureWarning: 'force_all_finite' was renamed to 'ensure_all_finite' in 1.6 and will be removed in 1.8.\n",
            "  warnings.warn(\n"
          ]
        }
      ],
      "source": [
        "# LightGBM Evaluation\n",
        "lightgbm_model = pipelines[\"LightGBM\"]\n",
        "lightgbm_model.fit(X_train, y_train)\n",
        "\n",
        "# Predictions\n",
        "y_pred_lgb = lightgbm_model.predict(X_test)\n",
        "\n",
        "# RMSE\n",
        "rmse_lgb = np.sqrt(mean_squared_error(y_test, y_pred_lgb))\n",
        "\n",
        "# R-squared\n",
        "r2_lgb = r2_score(y_test, y_pred_lgb)\n",
        "\n",
        "# Output\n",
        "print(f\"LightGBM RMSE: {rmse_lgb:.4f}\")\n",
        "print(f\"LightGBM R-squared: {r2_lgb:.4f}\")\n"
      ]
    },
    {
      "cell_type": "code",
      "execution_count": 52,
      "id": "f7917d6f-e471-45a7-b46f-7f3ce896d35a",
      "metadata": {
        "id": "f7917d6f-e471-45a7-b46f-7f3ce896d35a",
        "colab": {
          "base_uri": "https://localhost:8080/"
        },
        "outputId": "3f4824de-acd6-4e58-f4b6-22a14ddc61c6"
      },
      "outputs": [
        {
          "output_type": "stream",
          "name": "stdout",
          "text": [
            "DecisionTree RMSE: 0.0131\n",
            "DecisionTree R-squared: 0.2576\n"
          ]
        }
      ],
      "source": [
        "# Decision Tree Evaluation\n",
        "decision_tree_model = pipelines[\"DecisionTree\"]\n",
        "decision_tree_model.fit(X_train, y_train)\n",
        "\n",
        "# Predictions\n",
        "y_pred_dt = decision_tree_model.predict(X_test)\n",
        "\n",
        "# RMSE\n",
        "rmse_dt = np.sqrt(mean_squared_error(y_test, y_pred_dt))  # Calculate RMSE using NumPy's sqrt\n",
        "# R-squared\n",
        "r2_dt = r2_score(y_test, y_pred_dt)\n",
        "\n",
        "# Output\n",
        "print(f\"DecisionTree RMSE: {rmse_dt:.4f}\")\n",
        "print(f\"DecisionTree R-squared: {r2_dt:.4f}\")\n"
      ]
    },
    {
      "cell_type": "markdown",
      "id": "01349ec8-a128-429a-8789-4da30244d75b",
      "metadata": {
        "id": "01349ec8-a128-429a-8789-4da30244d75b"
      },
      "source": [
        "### Insights\n",
        "- LightGBM seems to be the best model based on both RMSE and R-squared.\n",
        "- Random Forest and XGBoost also perform well but are slightly less accurate than LightGBM.\n",
        "- Linear Regression has the weakest performance, with a much higher RMSE and lower R-squared"
      ]
    },
    {
      "cell_type": "code",
      "execution_count": 53,
      "id": "2838ec14-9a29-483b-9f8a-8a7754f353a3",
      "metadata": {
        "id": "2838ec14-9a29-483b-9f8a-8a7754f353a3"
      },
      "outputs": [],
      "source": [
        "from sklearn.model_selection import GridSearchCV\n",
        "\n",
        "# Hyperparameter grids for each model\n",
        "param_grid_lightgbm = {\n",
        "    'model__num_leaves': [31, 63, 127],  # Number of leaves\n",
        "    'model__learning_rate': [0.01, 0.05, 0.1],  # Learning rate\n",
        "    'model__n_estimators': [50, 100, 200],  # Number of estimators\n",
        "    'model__max_depth': [-1, 5, 10]  # Max depth of the tree\n",
        "}\n",
        "\n",
        "param_grid_rf = {\n",
        "    'model__n_estimators': [100, 200],  # Number of trees\n",
        "    'model__max_depth': [None, 10, 20],  # Max depth of trees\n",
        "    'model__min_samples_split': [2, 5],  # Min samples to split a node\n",
        "    'model__min_samples_leaf': [1, 2]  # Min samples per leaf\n",
        "}\n",
        "\n",
        "param_grid_xgb = {\n",
        "    'model__learning_rate': [0.01, 0.05, 0.1],  # Learning rate\n",
        "    'model__n_estimators': [50, 100, 200],  # Number of estimators\n",
        "    'model__max_depth': [3, 6, 10],  # Max depth of tree\n",
        "    'model__subsample': [0.8, 1.0],  # Subsample ratio of training instances\n",
        "}\n"
      ]
    },
    {
      "cell_type": "code",
      "execution_count": 54,
      "id": "0cb71f6f-f503-43b0-805c-6d875139cad4",
      "metadata": {
        "id": "0cb71f6f-f503-43b0-805c-6d875139cad4",
        "colab": {
          "base_uri": "https://localhost:8080/"
        },
        "outputId": "63ad5f57-0f6e-4127-f863-df512513c131"
      },
      "outputs": [
        {
          "output_type": "stream",
          "name": "stdout",
          "text": [
            "Fitting 3 folds for each of 81 candidates, totalling 243 fits\n"
          ]
        },
        {
          "output_type": "stream",
          "name": "stderr",
          "text": [
            "/usr/local/lib/python3.11/dist-packages/sklearn/utils/deprecation.py:151: FutureWarning: 'force_all_finite' was renamed to 'ensure_all_finite' in 1.6 and will be removed in 1.8.\n",
            "  warnings.warn(\n"
          ]
        },
        {
          "output_type": "stream",
          "name": "stdout",
          "text": [
            "[LightGBM] [Info] Auto-choosing row-wise multi-threading, the overhead of testing was 0.008410 seconds.\n",
            "You can set `force_row_wise=true` to remove the overhead.\n",
            "And if memory is not enough, you can set `force_col_wise=true`.\n",
            "[LightGBM] [Info] Total Bins 87\n",
            "[LightGBM] [Info] Number of data points in the train set: 62410, number of used features: 33\n",
            "[LightGBM] [Info] Start training from score 0.010206\n",
            "[LightGBM] [Warning] No further splits with positive gain, best gain: -inf\n",
            "[LightGBM] [Warning] No further splits with positive gain, best gain: -inf\n",
            "[LightGBM] [Warning] No further splits with positive gain, best gain: -inf\n",
            "[LightGBM] [Warning] No further splits with positive gain, best gain: -inf\n",
            "Best parameters for LightGBM: {'model__learning_rate': 0.1, 'model__max_depth': 10, 'model__n_estimators': 200, 'model__num_leaves': 31}\n",
            "Best score for LightGBM: -0.00010775900778322743\n"
          ]
        }
      ],
      "source": [
        "# GridSearchCV for LightGBM\n",
        "grid_search_lightgbm = GridSearchCV(pipelines['LightGBM'], param_grid_lightgbm, cv=3, verbose=1, n_jobs=-1, scoring='neg_mean_squared_error')\n",
        "grid_search_lightgbm.fit(X_train, y_train)\n",
        "\n",
        "# Best parameters and score for LightGBM\n",
        "print(\"Best parameters for LightGBM:\", grid_search_lightgbm.best_params_)\n",
        "print(\"Best score for LightGBM:\", grid_search_lightgbm.best_score_)\n"
      ]
    },
    {
      "cell_type": "code",
      "execution_count": 55,
      "id": "3a495dcb-a07d-4eb6-9716-2987b549fbd0",
      "metadata": {
        "id": "3a495dcb-a07d-4eb6-9716-2987b549fbd0",
        "colab": {
          "base_uri": "https://localhost:8080/"
        },
        "outputId": "b03069bd-1726-463b-847f-f13ddba5d43d"
      },
      "outputs": [
        {
          "output_type": "stream",
          "name": "stdout",
          "text": [
            "Fitting 3 folds for each of 24 candidates, totalling 72 fits\n",
            "Best parameters for RandomForest: {'model__max_depth': 20, 'model__min_samples_leaf': 2, 'model__min_samples_split': 5, 'model__n_estimators': 100}\n",
            "Best score for RandomForest: -0.00010985495689499363\n"
          ]
        }
      ],
      "source": [
        "# GridSearchCV for RandomForest\n",
        "grid_search_rf = GridSearchCV(pipelines['RandomForest'], param_grid_rf, cv=3, verbose=1, n_jobs=-1, scoring='neg_mean_squared_error')\n",
        "grid_search_rf.fit(X_train, y_train)\n",
        "\n",
        "# Best parameters and score for RandomForest\n",
        "print(\"Best parameters for RandomForest:\", grid_search_rf.best_params_)\n",
        "print(\"Best score for RandomForest:\", grid_search_rf.best_score_)"
      ]
    },
    {
      "cell_type": "code",
      "execution_count": 56,
      "id": "e01cebec-077d-40fe-9f85-56dca2701d13",
      "metadata": {
        "id": "e01cebec-077d-40fe-9f85-56dca2701d13",
        "colab": {
          "base_uri": "https://localhost:8080/"
        },
        "outputId": "c486bdbc-fdae-4a29-dcda-7daf09d5b748"
      },
      "outputs": [
        {
          "output_type": "stream",
          "name": "stdout",
          "text": [
            "Fitting 3 folds for each of 54 candidates, totalling 162 fits\n",
            "Best parameters for XGBoost: {'model__learning_rate': 0.05, 'model__max_depth': 6, 'model__n_estimators': 200, 'model__subsample': 0.8}\n",
            "Best score for XGBoost: -0.0001097589176829675\n"
          ]
        }
      ],
      "source": [
        "# GridSearchCV for XGBoost\n",
        "grid_search_xgb = GridSearchCV(pipelines['XGBoost'], param_grid_xgb, cv=3, verbose=1, n_jobs=-1, scoring='neg_mean_squared_error')\n",
        "grid_search_xgb.fit(X_train, y_train)\n",
        "\n",
        "# Best parameters and score for XGBoost\n",
        "print(\"Best parameters for XGBoost:\", grid_search_xgb.best_params_)\n",
        "print(\"Best score for XGBoost:\", grid_search_xgb.best_score_)\n"
      ]
    },
    {
      "cell_type": "code",
      "execution_count": 57,
      "id": "a839877f-4cea-4469-b9fd-b77da148e582",
      "metadata": {
        "id": "a839877f-4cea-4469-b9fd-b77da148e582",
        "colab": {
          "base_uri": "https://localhost:8080/"
        },
        "outputId": "b8137be2-5fdb-4443-e16f-b19d25d91cde"
      },
      "outputs": [
        {
          "output_type": "stream",
          "name": "stderr",
          "text": [
            "/usr/local/lib/python3.11/dist-packages/sklearn/utils/deprecation.py:151: FutureWarning: 'force_all_finite' was renamed to 'ensure_all_finite' in 1.6 and will be removed in 1.8.\n",
            "  warnings.warn(\n"
          ]
        },
        {
          "output_type": "stream",
          "name": "stdout",
          "text": [
            "[LightGBM] [Info] Auto-choosing col-wise multi-threading, the overhead of testing was 0.011544 seconds.\n",
            "You can set `force_col_wise=true` to remove the overhead.\n",
            "[LightGBM] [Info] Total Bins 87\n",
            "[LightGBM] [Info] Number of data points in the train set: 62410, number of used features: 33\n",
            "[LightGBM] [Info] Start training from score 0.010206\n",
            "[LightGBM] [Warning] No further splits with positive gain, best gain: -inf\n",
            "[LightGBM] [Warning] No further splits with positive gain, best gain: -inf\n",
            "[LightGBM] [Warning] No further splits with positive gain, best gain: -inf\n",
            "[LightGBM] [Warning] No further splits with positive gain, best gain: -inf\n"
          ]
        },
        {
          "output_type": "stream",
          "name": "stderr",
          "text": [
            "/usr/local/lib/python3.11/dist-packages/sklearn/utils/deprecation.py:151: FutureWarning: 'force_all_finite' was renamed to 'ensure_all_finite' in 1.6 and will be removed in 1.8.\n",
            "  warnings.warn(\n"
          ]
        }
      ],
      "source": [
        "# Best parameters for LightGBM\n",
        "lightgbm_best_params = {\n",
        "    'model__learning_rate': 0.1,\n",
        "    'model__max_depth': 10,\n",
        "    'model__n_estimators': 200,\n",
        "    'model__num_leaves': 31\n",
        "}\n",
        "# Define the pipeline for each model\n",
        "lightgbm_pipeline = Pipeline(steps=[\n",
        "    ('preprocessor', preprocessor),\n",
        "    ('model', LGBMRegressor())\n",
        "])\n",
        "# LightGBM\n",
        "lightgbm_pipeline.set_params(**lightgbm_best_params)\n",
        "lightgbm_pipeline.fit(X_train, y_train)\n",
        "y_pred_lightgbm = lightgbm_pipeline.predict(X_test)"
      ]
    },
    {
      "cell_type": "code",
      "execution_count": 58,
      "id": "f7d5aa2c-b23b-428f-af28-f6759d6daaca",
      "metadata": {
        "id": "f7d5aa2c-b23b-428f-af28-f6759d6daaca"
      },
      "outputs": [],
      "source": [
        "# Best parameters for RandomForest\n",
        "rf_best_params = {\n",
        "    'model__max_depth': None,\n",
        "    'model__min_samples_leaf': 2,\n",
        "    'model__min_samples_split': 5,\n",
        "    'model__n_estimators': 100\n",
        "}\n",
        "\n",
        "rf_pipeline = Pipeline(steps=[\n",
        "    ('preprocessor', preprocessor),\n",
        "    ('model', RandomForestRegressor())\n",
        "])\n",
        "\n",
        "rf_pipeline.set_params(**rf_best_params)\n",
        "rf_pipeline.fit(X_train, y_train)\n",
        "y_pred_rf = rf_pipeline.predict(X_test)\n"
      ]
    },
    {
      "cell_type": "code",
      "execution_count": 59,
      "id": "05a9e96d-096e-47a7-9b98-cbd24998b7a8",
      "metadata": {
        "id": "05a9e96d-096e-47a7-9b98-cbd24998b7a8"
      },
      "outputs": [],
      "source": [
        "# Best parameters for XGBoost\n",
        "xgb_best_params = {\n",
        "    'model__learning_rate': 0.05,\n",
        "    'model__max_depth': 6,\n",
        "    'model__n_estimators': 200,\n",
        "    'model__subsample': 0.8\n",
        "}\n",
        "\n",
        "xgb_pipeline = Pipeline(steps=[\n",
        "    ('preprocessor', preprocessor),\n",
        "    ('model', XGBRegressor())\n",
        "])\n",
        "\n",
        "xgb_pipeline.set_params(**xgb_best_params)\n",
        "xgb_pipeline.fit(X_train, y_train)\n",
        "y_pred_xgb = xgb_pipeline.predict(X_test)\n"
      ]
    },
    {
      "cell_type": "code",
      "execution_count": 60,
      "id": "af73fbc4-2827-474d-a4d8-49255ed85731",
      "metadata": {
        "id": "af73fbc4-2827-474d-a4d8-49255ed85731",
        "colab": {
          "base_uri": "https://localhost:8080/"
        },
        "outputId": "ef893133-a59d-4b82-c7bb-294246713a29"
      },
      "outputs": [
        {
          "output_type": "stream",
          "name": "stdout",
          "text": [
            "LightGBM RMSE: 0.0122\n",
            "LightGBM R-squared: 0.3515\n",
            "RandomForest RMSE: 0.0124\n",
            "RandomForest R-squared: 0.3357\n",
            "XGBoost RMSE: 0.0125\n",
            "XGBoost R-squared: 0.3226\n"
          ]
        }
      ],
      "source": [
        "# Evaluate performance\n",
        "from sklearn.metrics import mean_squared_error, r2_score\n",
        "\n",
        "# Calculate RMSE and R-squared for each model\n",
        "def evaluate_model(y_test, y_pred, model_name):\n",
        "    rmse = np.sqrt(mean_squared_error(y_test, y_pred)) # Calculate RMSE using NumPy's sqrt\n",
        "    r2 = r2_score(y_test, y_pred)\n",
        "    print(f\"{model_name} RMSE: {rmse:.4f}\")\n",
        "    print(f\"{model_name} R-squared: {r2:.4f}\")\n",
        "\n",
        "# Evaluate each model\n",
        "evaluate_model(y_test, y_pred_lightgbm, \"LightGBM\")\n",
        "evaluate_model(y_test, y_pred_rf, \"RandomForest\")\n",
        "evaluate_model(y_test, y_pred_xgb, \"XGBoost\")\n"
      ]
    },
    {
      "cell_type": "markdown",
      "id": "3e0f1c9e-7a7f-4eb2-93eb-d807a1dbf327",
      "metadata": {
        "id": "3e0f1c9e-7a7f-4eb2-93eb-d807a1dbf327"
      },
      "source": [
        "### Interpretation of Results:\n",
        "- LightGBM has the best performance overall.\n",
        "- RandomForest and XGBoost are also performing relatively well, but with slightly higher RMSE and lower R-squared compared to LightGBM"
      ]
    },
    {
      "cell_type": "code",
      "execution_count": 60,
      "id": "2f2d5380-a0de-4937-8c66-3c12b2e47305",
      "metadata": {
        "id": "2f2d5380-a0de-4937-8c66-3c12b2e47305"
      },
      "outputs": [],
      "source": []
    },
    {
      "cell_type": "markdown",
      "id": "2c210d86-c29f-4a98-97c5-ce9c1b43a863",
      "metadata": {
        "id": "2c210d86-c29f-4a98-97c5-ce9c1b43a863"
      },
      "source": [
        "## MLFLOW"
      ]
    },
    {
      "cell_type": "code",
      "execution_count": 67,
      "id": "07b7caf0-7498-4b2d-8ede-a3e21fc85cbf",
      "metadata": {
        "id": "07b7caf0-7498-4b2d-8ede-a3e21fc85cbf",
        "colab": {
          "base_uri": "https://localhost:8080/"
        },
        "outputId": "45fd28c2-d561-472d-953a-c24ed33d80d7"
      },
      "outputs": [
        {
          "output_type": "stream",
          "name": "stdout",
          "text": [
            "Requirement already satisfied: pyngrok in /usr/local/lib/python3.11/dist-packages (7.2.3)\n",
            "Requirement already satisfied: PyYAML>=5.1 in /usr/local/lib/python3.11/dist-packages (from pyngrok) (6.0.2)\n"
          ]
        }
      ],
      "source": [
        "pip install pyngrok"
      ]
    },
    {
      "cell_type": "code",
      "execution_count": 68,
      "id": "915ab342-f245-4d1d-921f-88735da2fea7",
      "metadata": {
        "id": "915ab342-f245-4d1d-921f-88735da2fea7",
        "colab": {
          "base_uri": "https://localhost:8080/"
        },
        "outputId": "3d8d1481-1438-48b7-90f1-92709b9ce74e"
      },
      "outputs": [
        {
          "output_type": "stream",
          "name": "stdout",
          "text": [
            "Requirement already satisfied: mlflow in /usr/local/lib/python3.11/dist-packages (2.20.2)\n",
            "Requirement already satisfied: mlflow-skinny==2.20.2 in /usr/local/lib/python3.11/dist-packages (from mlflow) (2.20.2)\n",
            "Requirement already satisfied: Flask<4 in /usr/local/lib/python3.11/dist-packages (from mlflow) (3.1.0)\n",
            "Requirement already satisfied: Jinja2<4,>=2.11 in /usr/local/lib/python3.11/dist-packages (from mlflow) (3.1.5)\n",
            "Requirement already satisfied: alembic!=1.10.0,<2 in /usr/local/lib/python3.11/dist-packages (from mlflow) (1.14.1)\n",
            "Requirement already satisfied: docker<8,>=4.0.0 in /usr/local/lib/python3.11/dist-packages (from mlflow) (7.1.0)\n",
            "Requirement already satisfied: graphene<4 in /usr/local/lib/python3.11/dist-packages (from mlflow) (3.4.3)\n",
            "Requirement already satisfied: gunicorn<24 in /usr/local/lib/python3.11/dist-packages (from mlflow) (23.0.0)\n",
            "Requirement already satisfied: markdown<4,>=3.3 in /usr/local/lib/python3.11/dist-packages (from mlflow) (3.7)\n",
            "Requirement already satisfied: matplotlib<4 in /usr/local/lib/python3.11/dist-packages (from mlflow) (3.10.0)\n",
            "Requirement already satisfied: numpy<3 in /usr/local/lib/python3.11/dist-packages (from mlflow) (1.26.4)\n",
            "Requirement already satisfied: pandas<3 in /usr/local/lib/python3.11/dist-packages (from mlflow) (2.2.2)\n",
            "Requirement already satisfied: pyarrow<19,>=4.0.0 in /usr/local/lib/python3.11/dist-packages (from mlflow) (17.0.0)\n",
            "Requirement already satisfied: scikit-learn<2 in /usr/local/lib/python3.11/dist-packages (from mlflow) (1.6.1)\n",
            "Requirement already satisfied: scipy<2 in /usr/local/lib/python3.11/dist-packages (from mlflow) (1.13.1)\n",
            "Requirement already satisfied: sqlalchemy<3,>=1.4.0 in /usr/local/lib/python3.11/dist-packages (from mlflow) (2.0.38)\n",
            "Requirement already satisfied: cachetools<6,>=5.0.0 in /usr/local/lib/python3.11/dist-packages (from mlflow-skinny==2.20.2->mlflow) (5.5.1)\n",
            "Requirement already satisfied: click<9,>=7.0 in /usr/local/lib/python3.11/dist-packages (from mlflow-skinny==2.20.2->mlflow) (8.1.8)\n",
            "Requirement already satisfied: cloudpickle<4 in /usr/local/lib/python3.11/dist-packages (from mlflow-skinny==2.20.2->mlflow) (3.1.1)\n",
            "Requirement already satisfied: databricks-sdk<1,>=0.20.0 in /usr/local/lib/python3.11/dist-packages (from mlflow-skinny==2.20.2->mlflow) (0.44.1)\n",
            "Requirement already satisfied: gitpython<4,>=3.1.9 in /usr/local/lib/python3.11/dist-packages (from mlflow-skinny==2.20.2->mlflow) (3.1.44)\n",
            "Requirement already satisfied: importlib_metadata!=4.7.0,<9,>=3.7.0 in /usr/local/lib/python3.11/dist-packages (from mlflow-skinny==2.20.2->mlflow) (8.6.1)\n",
            "Requirement already satisfied: opentelemetry-api<3,>=1.9.0 in /usr/local/lib/python3.11/dist-packages (from mlflow-skinny==2.20.2->mlflow) (1.16.0)\n",
            "Requirement already satisfied: opentelemetry-sdk<3,>=1.9.0 in /usr/local/lib/python3.11/dist-packages (from mlflow-skinny==2.20.2->mlflow) (1.16.0)\n",
            "Requirement already satisfied: packaging<25 in /usr/local/lib/python3.11/dist-packages (from mlflow-skinny==2.20.2->mlflow) (24.2)\n",
            "Requirement already satisfied: protobuf<6,>=3.12.0 in /usr/local/lib/python3.11/dist-packages (from mlflow-skinny==2.20.2->mlflow) (4.25.6)\n",
            "Requirement already satisfied: pydantic<3,>=1.10.8 in /usr/local/lib/python3.11/dist-packages (from mlflow-skinny==2.20.2->mlflow) (2.10.6)\n",
            "Requirement already satisfied: pyyaml<7,>=5.1 in /usr/local/lib/python3.11/dist-packages (from mlflow-skinny==2.20.2->mlflow) (6.0.2)\n",
            "Requirement already satisfied: requests<3,>=2.17.3 in /usr/local/lib/python3.11/dist-packages (from mlflow-skinny==2.20.2->mlflow) (2.32.3)\n",
            "Requirement already satisfied: sqlparse<1,>=0.4.0 in /usr/local/lib/python3.11/dist-packages (from mlflow-skinny==2.20.2->mlflow) (0.5.3)\n",
            "Requirement already satisfied: typing-extensions<5,>=4.0.0 in /usr/local/lib/python3.11/dist-packages (from mlflow-skinny==2.20.2->mlflow) (4.12.2)\n",
            "Requirement already satisfied: Mako in /usr/local/lib/python3.11/dist-packages (from alembic!=1.10.0,<2->mlflow) (1.3.9)\n",
            "Requirement already satisfied: urllib3>=1.26.0 in /usr/local/lib/python3.11/dist-packages (from docker<8,>=4.0.0->mlflow) (2.3.0)\n",
            "Requirement already satisfied: Werkzeug>=3.1 in /usr/local/lib/python3.11/dist-packages (from Flask<4->mlflow) (3.1.3)\n",
            "Requirement already satisfied: itsdangerous>=2.2 in /usr/local/lib/python3.11/dist-packages (from Flask<4->mlflow) (2.2.0)\n",
            "Requirement already satisfied: blinker>=1.9 in /usr/local/lib/python3.11/dist-packages (from Flask<4->mlflow) (1.9.0)\n",
            "Requirement already satisfied: graphql-core<3.3,>=3.1 in /usr/local/lib/python3.11/dist-packages (from graphene<4->mlflow) (3.2.6)\n",
            "Requirement already satisfied: graphql-relay<3.3,>=3.1 in /usr/local/lib/python3.11/dist-packages (from graphene<4->mlflow) (3.2.0)\n",
            "Requirement already satisfied: python-dateutil<3,>=2.7.0 in /usr/local/lib/python3.11/dist-packages (from graphene<4->mlflow) (2.8.2)\n",
            "Requirement already satisfied: MarkupSafe>=2.0 in /usr/local/lib/python3.11/dist-packages (from Jinja2<4,>=2.11->mlflow) (3.0.2)\n",
            "Requirement already satisfied: contourpy>=1.0.1 in /usr/local/lib/python3.11/dist-packages (from matplotlib<4->mlflow) (1.3.1)\n",
            "Requirement already satisfied: cycler>=0.10 in /usr/local/lib/python3.11/dist-packages (from matplotlib<4->mlflow) (0.12.1)\n",
            "Requirement already satisfied: fonttools>=4.22.0 in /usr/local/lib/python3.11/dist-packages (from matplotlib<4->mlflow) (4.56.0)\n",
            "Requirement already satisfied: kiwisolver>=1.3.1 in /usr/local/lib/python3.11/dist-packages (from matplotlib<4->mlflow) (1.4.8)\n",
            "Requirement already satisfied: pillow>=8 in /usr/local/lib/python3.11/dist-packages (from matplotlib<4->mlflow) (11.1.0)\n",
            "Requirement already satisfied: pyparsing>=2.3.1 in /usr/local/lib/python3.11/dist-packages (from matplotlib<4->mlflow) (3.2.1)\n",
            "Requirement already satisfied: pytz>=2020.1 in /usr/local/lib/python3.11/dist-packages (from pandas<3->mlflow) (2025.1)\n",
            "Requirement already satisfied: tzdata>=2022.7 in /usr/local/lib/python3.11/dist-packages (from pandas<3->mlflow) (2025.1)\n",
            "Requirement already satisfied: joblib>=1.2.0 in /usr/local/lib/python3.11/dist-packages (from scikit-learn<2->mlflow) (1.4.2)\n",
            "Requirement already satisfied: threadpoolctl>=3.1.0 in /usr/local/lib/python3.11/dist-packages (from scikit-learn<2->mlflow) (3.5.0)\n",
            "Requirement already satisfied: greenlet!=0.4.17 in /usr/local/lib/python3.11/dist-packages (from sqlalchemy<3,>=1.4.0->mlflow) (3.1.1)\n",
            "Requirement already satisfied: google-auth~=2.0 in /usr/local/lib/python3.11/dist-packages (from databricks-sdk<1,>=0.20.0->mlflow-skinny==2.20.2->mlflow) (2.27.0)\n",
            "Requirement already satisfied: gitdb<5,>=4.0.1 in /usr/local/lib/python3.11/dist-packages (from gitpython<4,>=3.1.9->mlflow-skinny==2.20.2->mlflow) (4.0.12)\n",
            "Requirement already satisfied: zipp>=3.20 in /usr/local/lib/python3.11/dist-packages (from importlib_metadata!=4.7.0,<9,>=3.7.0->mlflow-skinny==2.20.2->mlflow) (3.21.0)\n",
            "Requirement already satisfied: deprecated>=1.2.6 in /usr/local/lib/python3.11/dist-packages (from opentelemetry-api<3,>=1.9.0->mlflow-skinny==2.20.2->mlflow) (1.2.18)\n",
            "Requirement already satisfied: setuptools>=16.0 in /usr/local/lib/python3.11/dist-packages (from opentelemetry-api<3,>=1.9.0->mlflow-skinny==2.20.2->mlflow) (75.1.0)\n",
            "Requirement already satisfied: opentelemetry-semantic-conventions==0.37b0 in /usr/local/lib/python3.11/dist-packages (from opentelemetry-sdk<3,>=1.9.0->mlflow-skinny==2.20.2->mlflow) (0.37b0)\n",
            "Requirement already satisfied: annotated-types>=0.6.0 in /usr/local/lib/python3.11/dist-packages (from pydantic<3,>=1.10.8->mlflow-skinny==2.20.2->mlflow) (0.7.0)\n",
            "Requirement already satisfied: pydantic-core==2.27.2 in /usr/local/lib/python3.11/dist-packages (from pydantic<3,>=1.10.8->mlflow-skinny==2.20.2->mlflow) (2.27.2)\n",
            "Requirement already satisfied: six>=1.5 in /usr/local/lib/python3.11/dist-packages (from python-dateutil<3,>=2.7.0->graphene<4->mlflow) (1.17.0)\n",
            "Requirement already satisfied: charset-normalizer<4,>=2 in /usr/local/lib/python3.11/dist-packages (from requests<3,>=2.17.3->mlflow-skinny==2.20.2->mlflow) (3.4.1)\n",
            "Requirement already satisfied: idna<4,>=2.5 in /usr/local/lib/python3.11/dist-packages (from requests<3,>=2.17.3->mlflow-skinny==2.20.2->mlflow) (3.10)\n",
            "Requirement already satisfied: certifi>=2017.4.17 in /usr/local/lib/python3.11/dist-packages (from requests<3,>=2.17.3->mlflow-skinny==2.20.2->mlflow) (2025.1.31)\n",
            "Requirement already satisfied: wrapt<2,>=1.10 in /usr/local/lib/python3.11/dist-packages (from deprecated>=1.2.6->opentelemetry-api<3,>=1.9.0->mlflow-skinny==2.20.2->mlflow) (1.17.2)\n",
            "Requirement already satisfied: smmap<6,>=3.0.1 in /usr/local/lib/python3.11/dist-packages (from gitdb<5,>=4.0.1->gitpython<4,>=3.1.9->mlflow-skinny==2.20.2->mlflow) (5.0.2)\n",
            "Requirement already satisfied: pyasn1-modules>=0.2.1 in /usr/local/lib/python3.11/dist-packages (from google-auth~=2.0->databricks-sdk<1,>=0.20.0->mlflow-skinny==2.20.2->mlflow) (0.4.1)\n",
            "Requirement already satisfied: rsa<5,>=3.1.4 in /usr/local/lib/python3.11/dist-packages (from google-auth~=2.0->databricks-sdk<1,>=0.20.0->mlflow-skinny==2.20.2->mlflow) (4.9)\n",
            "Requirement already satisfied: pyasn1<0.7.0,>=0.4.6 in /usr/local/lib/python3.11/dist-packages (from pyasn1-modules>=0.2.1->google-auth~=2.0->databricks-sdk<1,>=0.20.0->mlflow-skinny==2.20.2->mlflow) (0.6.1)\n"
          ]
        }
      ],
      "source": [
        "!pip install mlflow\n",
        "import mlflow\n",
        "import mlflow.sklearn\n",
        "from pyngrok import ngrok\n",
        "import os\n",
        "import time"
      ]
    },
    {
      "cell_type": "code",
      "source": [
        "# Stop existing ngrok tunnels before starting a new one\n",
        "!pkill -f ngrok  # Kill existing ngrok process"
      ],
      "metadata": {
        "id": "7vetoEkorVtj"
      },
      "id": "7vetoEkorVtj",
      "execution_count": 76,
      "outputs": []
    },
    {
      "cell_type": "code",
      "source": [
        "# Authenticate ngrok with your token (Ensure token is provided)\n",
        "ngrok_token = \"2mr1L9QaWuIaXaixSkUEjCnM6M4_2N3RfbBXd7fF5rLNe1zAn\"  # Replace with your actual ngrok token\n",
        "if ngrok_token:\n",
        "    os.system(f\"ngrok authtoken {ngrok_token}\")\n",
        "else:\n",
        "    raise ValueError(\"Ngrok token is missing. Please provide a valid token.\")\n"
      ],
      "metadata": {
        "id": "S76Q5EEW6s7N"
      },
      "id": "S76Q5EEW6s7N",
      "execution_count": 77,
      "outputs": []
    },
    {
      "cell_type": "code",
      "source": [
        "# Start MLflow Tracking UI locally\n",
        "mlflow.set_tracking_uri(\"http://127.0.0.1:5000\")\n"
      ],
      "metadata": {
        "id": "XujRb6106uRA"
      },
      "id": "XujRb6106uRA",
      "execution_count": 78,
      "outputs": []
    },
    {
      "cell_type": "code",
      "source": [
        "# Start MLflow server in the background\n",
        "get_ipython().system_raw(\"mlflow server --host 0.0.0.0 --port 5000 --backend-store-uri file:/content/mlruns &\")"
      ],
      "metadata": {
        "id": "zLAyEHFl6yEf"
      },
      "id": "zLAyEHFl6yEf",
      "execution_count": 79,
      "outputs": []
    },
    {
      "cell_type": "code",
      "source": [
        "# Start ngrok to expose MLflow UI\n",
        "public_url = ngrok.connect(5000, \"http\")\n",
        "print(f\"MLflow Tracking UI is live at: {public_url}\")"
      ],
      "metadata": {
        "colab": {
          "base_uri": "https://localhost:8080/"
        },
        "id": "7mHJC3vI62lH",
        "outputId": "9ce666bd-bd4c-486e-83d8-ff3057af6662"
      },
      "id": "7mHJC3vI62lH",
      "execution_count": 80,
      "outputs": [
        {
          "output_type": "stream",
          "name": "stdout",
          "text": [
            "MLflow Tracking UI is live at: NgrokTunnel: \"https://5adf-35-190-183-220.ngrok-free.app\" -> \"http://localhost:5000\"\n"
          ]
        }
      ]
    },
    {
      "cell_type": "code",
      "source": [
        "# Start an MLflow experiment\n",
        "mlflow.set_experiment(\"Jewery_Price_Prediction\")"
      ],
      "metadata": {
        "colab": {
          "base_uri": "https://localhost:8080/"
        },
        "id": "AJjIUr1H68Lk",
        "outputId": "d56d2953-9672-41f7-c376-77234a0b0079"
      },
      "id": "AJjIUr1H68Lk",
      "execution_count": 81,
      "outputs": [
        {
          "output_type": "stream",
          "name": "stderr",
          "text": [
            "2025/02/17 03:21:41 INFO mlflow.tracking.fluent: Experiment with name 'Jewery_Price_Prediction' does not exist. Creating a new experiment.\n"
          ]
        },
        {
          "output_type": "execute_result",
          "data": {
            "text/plain": [
              "<Experiment: artifact_location='mlflow-artifacts:/275730054780801238', creation_time=1739762501736, experiment_id='275730054780801238', last_update_time=1739762501736, lifecycle_stage='active', name='Jewery_Price_Prediction', tags={}>"
            ]
          },
          "metadata": {},
          "execution_count": 81
        }
      ]
    },
    {
      "cell_type": "code",
      "source": [
        "# Function to evaluate and log models in MLflow\n",
        "def evaluate_and_log_model(model, X_train, y_train, X_test, y_test, model_name, params):\n",
        "    with mlflow.start_run(run_name=model_name):\n",
        "        # Train the model\n",
        "        model.fit(X_train, y_train)\n",
        "\n",
        "        # Predict\n",
        "        y_pred = model.predict(X_test)\n",
        "\n",
        "        # Compute metrics\n",
        "        mse = mean_squared_error(y_test, y_pred)\n",
        "        rmse = np.sqrt(mse)\n",
        "        r2 = r2_score(y_test, y_pred)\n",
        "\n",
        "        # Log parameters\n",
        "        mlflow.log_params(params)\n",
        "\n",
        "        # Log metrics\n",
        "        mlflow.log_metric(\"RMSE\", rmse)\n",
        "        mlflow.log_metric(\"R2 Score\", r2)\n",
        "\n",
        "        # Log model\n",
        "        mlflow.sklearn.log_model(model, model_name)\n",
        "\n",
        "        print(f\"Logged {model_name} - RMSE: {rmse:.4f}, R2 Score: {r2:.4f}\")\n"
      ],
      "metadata": {
        "id": "MRywmN3kv3Ya"
      },
      "id": "MRywmN3kv3Ya",
      "execution_count": 82,
      "outputs": []
    },
    {
      "cell_type": "code",
      "source": [
        "# Models and their hyperparameters\n",
        "models = {\n",
        "    \"LightGBM\": (lightgbm_pipeline, lightgbm_best_params),\n",
        "    \"RandomForest\": (rf_pipeline, rf_best_params),  # Use rf_pipeline and rf_best_params\n",
        "    \"XGBoost\": (xgb_pipeline, xgb_best_params),\n",
        "}\n",
        "\n",
        "# Run the evaluation and logging for each model\n",
        "for model_name, (model, params) in models.items():\n",
        "    evaluate_and_log_model(model, X_train, y_train, X_test, y_test, model_name, params)\n",
        "\n",
        "print(\"\\n✅ All models logged successfully in MLflow!\")"
      ],
      "metadata": {
        "id": "6zQUwDwQwUZz",
        "colab": {
          "base_uri": "https://localhost:8080/"
        },
        "outputId": "384a6cc4-d9b8-40a2-a8bb-c68209c3a111"
      },
      "id": "6zQUwDwQwUZz",
      "execution_count": 83,
      "outputs": [
        {
          "output_type": "stream",
          "name": "stderr",
          "text": [
            "/usr/local/lib/python3.11/dist-packages/sklearn/utils/deprecation.py:151: FutureWarning: 'force_all_finite' was renamed to 'ensure_all_finite' in 1.6 and will be removed in 1.8.\n",
            "  warnings.warn(\n"
          ]
        },
        {
          "output_type": "stream",
          "name": "stdout",
          "text": [
            "[LightGBM] [Info] Auto-choosing row-wise multi-threading, the overhead of testing was 0.011986 seconds.\n",
            "You can set `force_row_wise=true` to remove the overhead.\n",
            "And if memory is not enough, you can set `force_col_wise=true`.\n",
            "[LightGBM] [Info] Total Bins 87\n",
            "[LightGBM] [Info] Number of data points in the train set: 62410, number of used features: 33\n",
            "[LightGBM] [Info] Start training from score 0.010206\n",
            "[LightGBM] [Warning] No further splits with positive gain, best gain: -inf\n",
            "[LightGBM] [Warning] No further splits with positive gain, best gain: -inf\n",
            "[LightGBM] [Warning] No further splits with positive gain, best gain: -inf\n",
            "[LightGBM] [Warning] No further splits with positive gain, best gain: -inf\n"
          ]
        },
        {
          "output_type": "stream",
          "name": "stderr",
          "text": [
            "/usr/local/lib/python3.11/dist-packages/sklearn/utils/deprecation.py:151: FutureWarning: 'force_all_finite' was renamed to 'ensure_all_finite' in 1.6 and will be removed in 1.8.\n",
            "  warnings.warn(\n",
            "\u001b[31m2025/02/17 03:22:37 WARNING mlflow.models.model: Model logged without a signature and input example. Please set `input_example` parameter when logging the model to auto infer the model signature.\u001b[0m\n"
          ]
        },
        {
          "output_type": "stream",
          "name": "stdout",
          "text": [
            "Logged LightGBM - RMSE: 0.0122, R2 Score: 0.3515\n",
            "🏃 View run LightGBM at: http://127.0.0.1:5000/#/experiments/275730054780801238/runs/e8b2214c25a24df18659c7778fe7d527\n",
            "🧪 View experiment at: http://127.0.0.1:5000/#/experiments/275730054780801238\n"
          ]
        },
        {
          "output_type": "stream",
          "name": "stderr",
          "text": [
            "\u001b[31m2025/02/17 03:22:57 WARNING mlflow.models.model: Model logged without a signature and input example. Please set `input_example` parameter when logging the model to auto infer the model signature.\u001b[0m\n"
          ]
        },
        {
          "output_type": "stream",
          "name": "stdout",
          "text": [
            "Logged RandomForest - RMSE: 0.0125, R2 Score: 0.3185\n",
            "🏃 View run RandomForest at: http://127.0.0.1:5000/#/experiments/275730054780801238/runs/6a86085b54ea45d3a3a7c581f9d9a448\n",
            "🧪 View experiment at: http://127.0.0.1:5000/#/experiments/275730054780801238\n"
          ]
        },
        {
          "output_type": "stream",
          "name": "stderr",
          "text": [
            "\u001b[31m2025/02/17 03:23:04 WARNING mlflow.models.model: Model logged without a signature and input example. Please set `input_example` parameter when logging the model to auto infer the model signature.\u001b[0m\n"
          ]
        },
        {
          "output_type": "stream",
          "name": "stdout",
          "text": [
            "Logged XGBoost - RMSE: 0.0125, R2 Score: 0.3226\n",
            "🏃 View run XGBoost at: http://127.0.0.1:5000/#/experiments/275730054780801238/runs/415aea4408094f4b8f813a57927c363a\n",
            "🧪 View experiment at: http://127.0.0.1:5000/#/experiments/275730054780801238\n",
            "\n",
            "✅ All models logged successfully in MLflow!\n"
          ]
        }
      ]
    },
    {
      "cell_type": "code",
      "source": [
        "import joblib\n",
        "\n",
        "# Save Factorization Mappings\n",
        "factorized_mappings = {\n",
        "    \"Main_Metal\": list(real_categories[\"Main_Metal\"].unique()),\n",
        "    \"Target_Gender\": list(real_categories[\"Target_Gender\"].unique()),\n",
        "    \"Category\": list(real_categories[\"Category\"].unique()),\n",
        "    \"Main_Color\": list(real_categories[\"Main_Color\"].unique())\n",
        "}\n",
        "joblib.dump(factorized_mappings, \"factorized_mappings.pkl\")\n",
        "\n",
        "# Save One-Hot Encoder Column Names\n",
        "one_hot_columns = list(real_categories.columns)  # Save all columns after encoding\n",
        "joblib.dump(one_hot_columns, \"one_hot_columns.pkl\")\n",
        "\n",
        "# Save MinMaxScaler\n",
        "scaler = MinMaxScaler()\n",
        "scaler.fit(real_categories[[\"Price_USD\", \"Year\", \"Month\"]])  # Fit scaler\n",
        "joblib.dump(scaler, \"scaler.pkl\")\n",
        "\n",
        "# Save Model\n",
        "joblib.dump(lightgbm_pipeline, \"lightgbm_model.pkl\")\n"
      ],
      "metadata": {
        "id": "p_Fyqmd2wUdM",
        "colab": {
          "base_uri": "https://localhost:8080/"
        },
        "outputId": "01a3131b-37c1-4243-e833-e591f568e7c8"
      },
      "id": "p_Fyqmd2wUdM",
      "execution_count": 86,
      "outputs": [
        {
          "output_type": "execute_result",
          "data": {
            "text/plain": [
              "['lightgbm_model.pkl']"
            ]
          },
          "metadata": {},
          "execution_count": 86
        }
      ]
    },
    {
      "cell_type": "code",
      "source": [],
      "metadata": {
        "id": "GYOXw_ZaxWBt"
      },
      "id": "GYOXw_ZaxWBt",
      "execution_count": null,
      "outputs": []
    },
    {
      "cell_type": "code",
      "source": [],
      "metadata": {
        "id": "1Bp4AHiKxWF2"
      },
      "id": "1Bp4AHiKxWF2",
      "execution_count": null,
      "outputs": []
    },
    {
      "cell_type": "code",
      "source": [],
      "metadata": {
        "id": "jMGtoDpYxWJo"
      },
      "id": "jMGtoDpYxWJo",
      "execution_count": null,
      "outputs": []
    },
    {
      "cell_type": "code",
      "execution_count": null,
      "id": "c2866ce9-1f51-4016-9af3-dc1a2f8861fd",
      "metadata": {
        "id": "c2866ce9-1f51-4016-9af3-dc1a2f8861fd"
      },
      "outputs": [],
      "source": []
    },
    {
      "cell_type": "code",
      "execution_count": null,
      "id": "8020acdb-f901-4df9-beda-46b32f73a592",
      "metadata": {
        "id": "8020acdb-f901-4df9-beda-46b32f73a592"
      },
      "outputs": [],
      "source": []
    },
    {
      "cell_type": "code",
      "execution_count": null,
      "id": "fbf685bc-4fa2-4ed2-8e9c-f7d40b8c21bc",
      "metadata": {
        "id": "fbf685bc-4fa2-4ed2-8e9c-f7d40b8c21bc"
      },
      "outputs": [],
      "source": []
    },
    {
      "cell_type": "code",
      "execution_count": null,
      "id": "a0cf5ce0-28ae-423f-95e7-0050b5a3fb2a",
      "metadata": {
        "id": "a0cf5ce0-28ae-423f-95e7-0050b5a3fb2a"
      },
      "outputs": [],
      "source": []
    },
    {
      "cell_type": "code",
      "execution_count": null,
      "id": "9fcc7904-e2f3-4ed0-a1be-17fc9318423b",
      "metadata": {
        "id": "9fcc7904-e2f3-4ed0-a1be-17fc9318423b"
      },
      "outputs": [],
      "source": []
    },
    {
      "cell_type": "code",
      "execution_count": null,
      "id": "6dfe7a74-db87-4ca5-9736-96ed2de78a0e",
      "metadata": {
        "id": "6dfe7a74-db87-4ca5-9736-96ed2de78a0e"
      },
      "outputs": [],
      "source": []
    },
    {
      "cell_type": "code",
      "execution_count": null,
      "id": "e46a5488-6e45-43ee-80bf-d6716ddad64f",
      "metadata": {
        "id": "e46a5488-6e45-43ee-80bf-d6716ddad64f"
      },
      "outputs": [],
      "source": []
    }
  ],
  "metadata": {
    "colab": {
      "provenance": []
    },
    "kernelspec": {
      "display_name": "Python (new_amazon)",
      "language": "python",
      "name": "new_amazon"
    },
    "language_info": {
      "codemirror_mode": {
        "name": "ipython",
        "version": 3
      },
      "file_extension": ".py",
      "mimetype": "text/x-python",
      "name": "python",
      "nbconvert_exporter": "python",
      "pygments_lexer": "ipython3",
      "version": "3.12.4"
    }
  },
  "nbformat": 4,
  "nbformat_minor": 5
}